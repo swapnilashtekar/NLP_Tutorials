{
 "cells": [
  {
   "cell_type": "code",
   "execution_count": 1,
   "metadata": {
    "collapsed": false
   },
   "outputs": [
    {
     "name": "stderr",
     "output_type": "stream",
     "text": [
      "/Library/Frameworks/Python.framework/Versions/2.7/lib/python2.7/site-packages/matplotlib/font_manager.py:273: UserWarning: Matplotlib is building the font cache using fc-list. This may take a moment.\n",
      "  warnings.warn('Matplotlib is building the font cache using fc-list. This may take a moment.')\n"
     ]
    }
   ],
   "source": [
    "### This should go into __init__()\n",
    "import nltk\n",
    "from nltk import word_tokenize, sent_tokenize\n",
    "import gensim\n",
    "from gensim.models.word2vec import Word2Vec\n",
    "from sklearn.manifold import TSNE\n",
    "import pandas as pd\n",
    "from bokeh.io import output_notebook\n",
    "from bokeh.plotting import show, figure\n",
    "%matplotlib inline"
   ]
  },
  {
   "cell_type": "code",
   "execution_count": 2,
   "metadata": {
    "collapsed": false
   },
   "outputs": [
    {
     "name": "stdout",
     "output_type": "stream",
     "text": [
      "[nltk_data] Downloading package punkt to\n",
      "[nltk_data]     /Users/swapnilashtekar/nltk_data...\n",
      "[nltk_data]   Package punkt is already up-to-date!\n"
     ]
    },
    {
     "data": {
      "text/plain": [
       "True"
      ]
     },
     "execution_count": 2,
     "metadata": {},
     "output_type": "execute_result"
    }
   ],
   "source": [
    "nltk.download('punkt') # English-language sentence tokenizer (not all periods end sentences; not all sentences start with a capital letter)"
   ]
  },
  {
   "cell_type": "markdown",
   "metadata": {
    "collapsed": true
   },
   "source": [
    "Loading Data"
   ]
  },
  {
   "cell_type": "code",
   "execution_count": 3,
   "metadata": {
    "collapsed": false
   },
   "outputs": [
    {
     "name": "stdout",
     "output_type": "stream",
     "text": [
      "[nltk_data] Downloading package gutenberg to\n",
      "[nltk_data]     /Users/swapnilashtekar/nltk_data...\n",
      "[nltk_data]   Package gutenberg is already up-to-date!\n"
     ]
    },
    {
     "data": {
      "text/plain": [
       "True"
      ]
     },
     "execution_count": 3,
     "metadata": {},
     "output_type": "execute_result"
    }
   ],
   "source": [
    "nltk.download('gutenberg')"
   ]
  },
  {
   "cell_type": "code",
   "execution_count": 4,
   "metadata": {
    "collapsed": true
   },
   "outputs": [],
   "source": [
    "from nltk.corpus import gutenberg"
   ]
  },
  {
   "cell_type": "code",
   "execution_count": 5,
   "metadata": {
    "collapsed": false
   },
   "outputs": [
    {
     "data": {
      "text/plain": [
       "(18,\n",
       " [u'austen-emma.txt',\n",
       "  u'austen-persuasion.txt',\n",
       "  u'austen-sense.txt',\n",
       "  u'bible-kjv.txt',\n",
       "  u'blake-poems.txt',\n",
       "  u'bryant-stories.txt',\n",
       "  u'burgess-busterbrown.txt',\n",
       "  u'carroll-alice.txt',\n",
       "  u'chesterton-ball.txt',\n",
       "  u'chesterton-brown.txt',\n",
       "  u'chesterton-thursday.txt',\n",
       "  u'edgeworth-parents.txt',\n",
       "  u'melville-moby_dick.txt',\n",
       "  u'milton-paradise.txt',\n",
       "  u'shakespeare-caesar.txt',\n",
       "  u'shakespeare-hamlet.txt',\n",
       "  u'shakespeare-macbeth.txt',\n",
       "  u'whitman-leaves.txt'])"
      ]
     },
     "execution_count": 5,
     "metadata": {},
     "output_type": "execute_result"
    }
   ],
   "source": [
    "len(gutenberg.fileids()), gutenberg.fileids() "
   ]
  },
  {
   "cell_type": "markdown",
   "metadata": {},
   "source": [
    "Tokenizing text"
   ]
  },
  {
   "cell_type": "code",
   "execution_count": 6,
   "metadata": {
    "collapsed": true
   },
   "outputs": [],
   "source": [
    "gbergSentTokens = sent_tokenize(gutenberg.raw())"
   ]
  },
  {
   "cell_type": "code",
   "execution_count": 7,
   "metadata": {
    "collapsed": false
   },
   "outputs": [
    {
     "data": {
      "text/plain": [
       "([u'[Emma by Jane Austen 1816]\\n\\nVOLUME I\\n\\nCHAPTER I\\n\\n\\nEmma Woodhouse, handsome, clever, and rich, with a comfortable home\\nand happy disposition, seemed to unite some of the best blessings\\nof existence; and had lived nearly twenty-one years in the world\\nwith very little to distress or vex her.',\n",
       "  u\"She was the youngest of the two daughters of a most affectionate,\\nindulgent father; and had, in consequence of her sister's marriage,\\nbeen mistress of his house from a very early period.\",\n",
       "  u'Her mother\\nhad died too long ago for her to have more than an indistinct\\nremembrance of her caresses; and her place had been supplied\\nby an excellent woman as governess, who had fallen little short\\nof a mother in affection.',\n",
       "  u\"Sixteen years had Miss Taylor been in Mr. Woodhouse's family,\\nless as a governess than a friend, very fond of both daughters,\\nbut particularly of Emma.\",\n",
       "  u'Between _them_ it was more the intimacy\\nof sisters.'],\n",
       " u\"She was the youngest of the two daughters of a most affectionate,\\nindulgent father; and had, in consequence of her sister's marriage,\\nbeen mistress of his house from a very early period.\")"
      ]
     },
     "execution_count": 7,
     "metadata": {},
     "output_type": "execute_result"
    }
   ],
   "source": [
    "gbergSentTokens[0:5], gbergSentTokens[1]"
   ]
  },
  {
   "cell_type": "code",
   "execution_count": 9,
   "metadata": {
    "collapsed": false
   },
   "outputs": [
    {
     "data": {
      "text/plain": [
       "[u'She',\n",
       " u'was',\n",
       " u'the',\n",
       " u'youngest',\n",
       " u'of',\n",
       " u'the',\n",
       " u'two',\n",
       " u'daughters',\n",
       " u'of',\n",
       " u'a',\n",
       " u'most',\n",
       " u'affectionate',\n",
       " u',',\n",
       " u'indulgent',\n",
       " u'father',\n",
       " u';',\n",
       " u'and',\n",
       " u'had',\n",
       " u',',\n",
       " u'in',\n",
       " u'consequence',\n",
       " u'of',\n",
       " u'her',\n",
       " u'sister',\n",
       " u\"'s\",\n",
       " u'marriage',\n",
       " u',',\n",
       " u'been',\n",
       " u'mistress',\n",
       " u'of',\n",
       " u'his',\n",
       " u'house',\n",
       " u'from',\n",
       " u'a',\n",
       " u'very',\n",
       " u'early',\n",
       " u'period',\n",
       " u'.']"
      ]
     },
     "execution_count": 9,
     "metadata": {},
     "output_type": "execute_result"
    }
   ],
   "source": [
    "word_tokenize(gbergSentTokens[1])"
   ]
  },
  {
   "cell_type": "code",
   "execution_count": 10,
   "metadata": {
    "collapsed": false
   },
   "outputs": [
    {
     "data": {
      "text/plain": [
       "u'father'"
      ]
     },
     "execution_count": 10,
     "metadata": {},
     "output_type": "execute_result"
    }
   ],
   "source": [
    "word_tokenize(gbergSentTokens[1])[14]"
   ]
  },
  {
   "cell_type": "code",
   "execution_count": 11,
   "metadata": {
    "collapsed": true
   },
   "outputs": [],
   "source": [
    "# a convenient method that handles newlines, as well as tokenizing sentences and words in one shot\n",
    "gbergSents = gutenberg.sents()\n"
   ]
  },
  {
   "cell_type": "code",
   "execution_count": 12,
   "metadata": {
    "collapsed": false
   },
   "outputs": [
    {
     "data": {
      "text/plain": [
       "[[u'[', u'Emma', u'by', u'Jane', u'Austen', u'1816', u']'],\n",
       " [u'VOLUME', u'I'],\n",
       " [u'CHAPTER', u'I'],\n",
       " [u'Emma',\n",
       "  u'Woodhouse',\n",
       "  u',',\n",
       "  u'handsome',\n",
       "  u',',\n",
       "  u'clever',\n",
       "  u',',\n",
       "  u'and',\n",
       "  u'rich',\n",
       "  u',',\n",
       "  u'with',\n",
       "  u'a',\n",
       "  u'comfortable',\n",
       "  u'home',\n",
       "  u'and',\n",
       "  u'happy',\n",
       "  u'disposition',\n",
       "  u',',\n",
       "  u'seemed',\n",
       "  u'to',\n",
       "  u'unite',\n",
       "  u'some',\n",
       "  u'of',\n",
       "  u'the',\n",
       "  u'best',\n",
       "  u'blessings',\n",
       "  u'of',\n",
       "  u'existence',\n",
       "  u';',\n",
       "  u'and',\n",
       "  u'had',\n",
       "  u'lived',\n",
       "  u'nearly',\n",
       "  u'twenty',\n",
       "  u'-',\n",
       "  u'one',\n",
       "  u'years',\n",
       "  u'in',\n",
       "  u'the',\n",
       "  u'world',\n",
       "  u'with',\n",
       "  u'very',\n",
       "  u'little',\n",
       "  u'to',\n",
       "  u'distress',\n",
       "  u'or',\n",
       "  u'vex',\n",
       "  u'her',\n",
       "  u'.'],\n",
       " [u'She',\n",
       "  u'was',\n",
       "  u'the',\n",
       "  u'youngest',\n",
       "  u'of',\n",
       "  u'the',\n",
       "  u'two',\n",
       "  u'daughters',\n",
       "  u'of',\n",
       "  u'a',\n",
       "  u'most',\n",
       "  u'affectionate',\n",
       "  u',',\n",
       "  u'indulgent',\n",
       "  u'father',\n",
       "  u';',\n",
       "  u'and',\n",
       "  u'had',\n",
       "  u',',\n",
       "  u'in',\n",
       "  u'consequence',\n",
       "  u'of',\n",
       "  u'her',\n",
       "  u'sister',\n",
       "  u\"'\",\n",
       "  u's',\n",
       "  u'marriage',\n",
       "  u',',\n",
       "  u'been',\n",
       "  u'mistress',\n",
       "  u'of',\n",
       "  u'his',\n",
       "  u'house',\n",
       "  u'from',\n",
       "  u'a',\n",
       "  u'very',\n",
       "  u'early',\n",
       "  u'period',\n",
       "  u'.']]"
      ]
     },
     "execution_count": 12,
     "metadata": {},
     "output_type": "execute_result"
    }
   ],
   "source": [
    "gbergSents[0:5]"
   ]
  },
  {
   "cell_type": "code",
   "execution_count": 13,
   "metadata": {
    "collapsed": false
   },
   "outputs": [
    {
     "data": {
      "text/plain": [
       "[u'She',\n",
       " u'was',\n",
       " u'the',\n",
       " u'youngest',\n",
       " u'of',\n",
       " u'the',\n",
       " u'two',\n",
       " u'daughters',\n",
       " u'of',\n",
       " u'a',\n",
       " u'most',\n",
       " u'affectionate',\n",
       " u',',\n",
       " u'indulgent',\n",
       " u'father',\n",
       " u';',\n",
       " u'and',\n",
       " u'had',\n",
       " u',',\n",
       " u'in',\n",
       " u'consequence',\n",
       " u'of',\n",
       " u'her',\n",
       " u'sister',\n",
       " u\"'\",\n",
       " u's',\n",
       " u'marriage',\n",
       " u',',\n",
       " u'been',\n",
       " u'mistress',\n",
       " u'of',\n",
       " u'his',\n",
       " u'house',\n",
       " u'from',\n",
       " u'a',\n",
       " u'very',\n",
       " u'early',\n",
       " u'period',\n",
       " u'.']"
      ]
     },
     "execution_count": 13,
     "metadata": {},
     "output_type": "execute_result"
    }
   ],
   "source": [
    "gbergSents[4]"
   ]
  },
  {
   "cell_type": "code",
   "execution_count": 14,
   "metadata": {
    "collapsed": false
   },
   "outputs": [
    {
     "data": {
      "text/plain": [
       "u'father'"
      ]
     },
     "execution_count": 14,
     "metadata": {},
     "output_type": "execute_result"
    }
   ],
   "source": [
    "gbergSents[4][14]"
   ]
  },
  {
   "cell_type": "code",
   "execution_count": 16,
   "metadata": {
    "collapsed": false
   },
   "outputs": [
    {
     "data": {
      "text/plain": [
       "([u'[', u'Emma', u'by', u'Jane', u'Austen', u'1816', ...], 2621613)"
      ]
     },
     "execution_count": 16,
     "metadata": {},
     "output_type": "execute_result"
    }
   ],
   "source": [
    "# another convenient method that we don't immediately need: \n",
    "gutenberg.words(), len(gutenberg.words())"
   ]
  },
  {
   "cell_type": "markdown",
   "metadata": {},
   "source": [
    "Running Word2Vec"
   ]
  },
  {
   "cell_type": "code",
   "execution_count": 18,
   "metadata": {
    "collapsed": false
   },
   "outputs": [],
   "source": [
    "model = Word2Vec(sentences=gbergSents, size=64, sg=1, window=10, min_count=5, seed=42, workers=8)"
   ]
  },
  {
   "cell_type": "markdown",
   "metadata": {},
   "source": [
    "Saving model for future use"
   ]
  },
  {
   "cell_type": "code",
   "execution_count": 19,
   "metadata": {
    "collapsed": true
   },
   "outputs": [],
   "source": [
    "model.save('raw_gutenberg_model.w2v')"
   ]
  },
  {
   "cell_type": "code",
   "execution_count": 21,
   "metadata": {
    "collapsed": false
   },
   "outputs": [
    {
     "name": "stderr",
     "output_type": "stream",
     "text": [
      "/Library/Frameworks/Python.framework/Versions/2.7/lib/python2.7/site-packages/ipykernel/__main__.py:2: DeprecationWarning: Call to deprecated `most_similar` (Method will be removed in 4.0.0, use self.wv.most_similar() instead).\n",
      "  from ipykernel import kernelapp as app\n"
     ]
    },
    {
     "data": {
      "text/plain": [
       "[(u'sister', 0.8012499809265137),\n",
       " (u'mother', 0.7899263501167297),\n",
       " (u'wife', 0.766146183013916),\n",
       " (u'daughter', 0.7561405897140503),\n",
       " (u'husband', 0.7329741716384888),\n",
       " (u'Sarah', 0.7202413082122803),\n",
       " (u'conceived', 0.716133713722229),\n",
       " (u'Sarai', 0.7085055112838745),\n",
       " (u'daughters', 0.7066256403923035),\n",
       " (u'brother', 0.7046873569488525)]"
      ]
     },
     "execution_count": 21,
     "metadata": {},
     "output_type": "execute_result"
    }
   ],
   "source": [
    "#close, but not quite; distinctly in female direction: \n",
    "model.most_similar(positive=['father', 'woman'], negative=['man'])"
   ]
  },
  {
   "cell_type": "code",
   "execution_count": 22,
   "metadata": {
    "collapsed": false
   },
   "outputs": [
    {
     "name": "stderr",
     "output_type": "stream",
     "text": [
      "/Library/Frameworks/Python.framework/Versions/2.7/lib/python2.7/site-packages/ipykernel/__main__.py:1: DeprecationWarning: Call to deprecated `most_similar` (Method will be removed in 4.0.0, use self.wv.most_similar() instead).\n",
      "  if __name__ == '__main__':\n"
     ]
    },
    {
     "data": {
      "text/plain": [
       "[(u'wife', 0.727226972579956),\n",
       " (u'sister', 0.7122801542282104),\n",
       " (u'conceived', 0.7090096473693848),\n",
       " (u'child', 0.6877676248550415),\n",
       " (u'mother', 0.6778206825256348),\n",
       " (u'widow', 0.6662559509277344),\n",
       " (u'daughter', 0.6532835364341736),\n",
       " (u'maid', 0.6359975934028625),\n",
       " (u'nurse', 0.631703794002533),\n",
       " (u'daughters', 0.6315330862998962)]"
      ]
     },
     "execution_count": 22,
     "metadata": {},
     "output_type": "execute_result"
    }
   ],
   "source": [
    "model.most_similar(positive=['husband', 'woman'], negative=['man'])"
   ]
  },
  {
   "cell_type": "markdown",
   "metadata": {},
   "source": [
    "Reducing word vector dimensionality with t-SNE"
   ]
  },
  {
   "cell_type": "code",
   "execution_count": 24,
   "metadata": {
    "collapsed": false
   },
   "outputs": [
    {
     "data": {
      "text/plain": [
       "{u'realms': <gensim.models.keyedvectors.Vocab at 0x10c620d50>,\n",
       " u'Doeg': <gensim.models.keyedvectors.Vocab at 0x10ede3050>,\n",
       " u'both': <gensim.models.keyedvectors.Vocab at 0x10efcb550>,\n",
       " u'yellow': <gensim.models.keyedvectors.Vocab at 0x10c529a50>,\n",
       " u'four': <gensim.models.keyedvectors.Vocab at 0x10ede30d0>,\n",
       " u'woods': <gensim.models.keyedvectors.Vocab at 0x10297bfd0>,\n",
       " u'hanging': <gensim.models.keyedvectors.Vocab at 0x10ec36c10>,\n",
       " u'conjuring': <gensim.models.keyedvectors.Vocab at 0x10c529ad0>,\n",
       " u'woody': <gensim.models.keyedvectors.Vocab at 0x10ec36b10>,\n",
       " u'Harriet': <gensim.models.keyedvectors.Vocab at 0x10c3fa690>,\n",
       " u'marching': <gensim.models.keyedvectors.Vocab at 0x10c50de50>,\n",
       " u'Caes': <gensim.models.keyedvectors.Vocab at 0x10c0c3450>,\n",
       " u'Foundation': <gensim.models.keyedvectors.Vocab at 0x10c437c10>,\n",
       " u'euery': <gensim.models.keyedvectors.Vocab at 0x10ede3250>,\n",
       " u'eligible': <gensim.models.keyedvectors.Vocab at 0x10ef31c90>,\n",
       " u'Libnah': <gensim.models.keyedvectors.Vocab at 0x10ede3290>,\n",
       " u'Starting': <gensim.models.keyedvectors.Vocab at 0x10ef73390>,\n",
       " u'scold': <gensim.models.keyedvectors.Vocab at 0x10ec36b90>,\n",
       " u'wheeled': <gensim.models.keyedvectors.Vocab at 0x10c56b1d0>,\n",
       " u'mistakes': <gensim.models.keyedvectors.Vocab at 0x10ee93050>,\n",
       " u'Vengeance': <gensim.models.keyedvectors.Vocab at 0x10c5a7350>,\n",
       " u'Western': <gensim.models.keyedvectors.Vocab at 0x10ec36cd0>,\n",
       " u'buck': <gensim.models.keyedvectors.Vocab at 0x10f08cc50>,\n",
       " u'lore': <gensim.models.keyedvectors.Vocab at 0x10ef31cd0>,\n",
       " u'portentous': <gensim.models.keyedvectors.Vocab at 0x10c4a5b10>,\n",
       " u'meadows': <gensim.models.keyedvectors.Vocab at 0x10ede32d0>,\n",
       " u'sinking': <gensim.models.keyedvectors.Vocab at 0x10ede3310>,\n",
       " u'treasuries': <gensim.models.keyedvectors.Vocab at 0x10ede8f90>,\n",
       " u'slothful': <gensim.models.keyedvectors.Vocab at 0x10ec36ad0>,\n",
       " u'nights': <gensim.models.keyedvectors.Vocab at 0x10ef10650>,\n",
       " u'Nebuchadrezzar': <gensim.models.keyedvectors.Vocab at 0x10ede3350>,\n",
       " u'oceans': <gensim.models.keyedvectors.Vocab at 0x10c3be690>,\n",
       " u'figs': <gensim.models.keyedvectors.Vocab at 0x10c529b50>,\n",
       " u'fur': <gensim.models.keyedvectors.Vocab at 0x10c620e10>,\n",
       " u'stabbed': <gensim.models.keyedvectors.Vocab at 0x10ede3390>,\n",
       " u'bringing': <gensim.models.keyedvectors.Vocab at 0x10ec36bd0>,\n",
       " u'Reddy': <gensim.models.keyedvectors.Vocab at 0x10ef31d50>,\n",
       " u'Goshen': <gensim.models.keyedvectors.Vocab at 0x10ec36390>,\n",
       " u'wooded': <gensim.models.keyedvectors.Vocab at 0x10ec36d10>,\n",
       " u'recollections': <gensim.models.keyedvectors.Vocab at 0x10ede3450>,\n",
       " u'uttering': <gensim.models.keyedvectors.Vocab at 0x10ede3490>,\n",
       " u'prize': <gensim.models.keyedvectors.Vocab at 0x10c529bd0>,\n",
       " u'Less': <gensim.models.keyedvectors.Vocab at 0x10ede34d0>,\n",
       " u'wooden': <gensim.models.keyedvectors.Vocab at 0x10ec36d50>,\n",
       " u'brutish': <gensim.models.keyedvectors.Vocab at 0x10c3befd0>,\n",
       " u'Lachish': <gensim.models.keyedvectors.Vocab at 0x10c529c10>,\n",
       " u'crotch': <gensim.models.keyedvectors.Vocab at 0x10ec36d90>,\n",
       " u'succession': <gensim.models.keyedvectors.Vocab at 0x10c529c50>,\n",
       " u'Tuesday': <gensim.models.keyedvectors.Vocab at 0x10effd2d0>,\n",
       " u'Paul': <gensim.models.keyedvectors.Vocab at 0x10ede3590>,\n",
       " u'straight': <gensim.models.keyedvectors.Vocab at 0x10ee1f150>,\n",
       " u'ornamental': <gensim.models.keyedvectors.Vocab at 0x10ede35d0>,\n",
       " u'garraun': <gensim.models.keyedvectors.Vocab at 0x10ec36e10>,\n",
       " u'sooty': <gensim.models.keyedvectors.Vocab at 0x10ec36e50>,\n",
       " u'nigh': <gensim.models.keyedvectors.Vocab at 0x10ef31dd0>,\n",
       " u'clover': <gensim.models.keyedvectors.Vocab at 0x10eda62d0>,\n",
       " u'cordially': <gensim.models.keyedvectors.Vocab at 0x10ef31e50>,\n",
       " u'preface': <gensim.models.keyedvectors.Vocab at 0x10ede3150>,\n",
       " u'mail': <gensim.models.keyedvectors.Vocab at 0x10f008cd0>,\n",
       " u'pulse': <gensim.models.keyedvectors.Vocab at 0x10ef31e90>,\n",
       " u'tires': <gensim.models.keyedvectors.Vocab at 0x10ef31ed0>,\n",
       " u'rampart': <gensim.models.keyedvectors.Vocab at 0x10c529c90>,\n",
       " u'second': <gensim.models.keyedvectors.Vocab at 0x10ef31f50>,\n",
       " u'sooth': <gensim.models.keyedvectors.Vocab at 0x10ec36e90>,\n",
       " u'valiant': <gensim.models.keyedvectors.Vocab at 0x10ede3650>,\n",
       " u'sternly': <gensim.models.keyedvectors.Vocab at 0x10f07b050>,\n",
       " u'sailed': <gensim.models.keyedvectors.Vocab at 0x10ede3690>,\n",
       " u'scraped': <gensim.models.keyedvectors.Vocab at 0x10ec36ed0>,\n",
       " u'Townsend': <gensim.models.keyedvectors.Vocab at 0x10c529d10>,\n",
       " u'bolts': <gensim.models.keyedvectors.Vocab at 0x10f06bd10>,\n",
       " u'driven': <gensim.models.keyedvectors.Vocab at 0x10f076890>,\n",
       " u'errors': <gensim.models.keyedvectors.Vocab at 0x10ec36f10>,\n",
       " u'whaling': <gensim.models.keyedvectors.Vocab at 0x10c529d50>,\n",
       " u'forgetting': <gensim.models.keyedvectors.Vocab at 0x10ef73450>,\n",
       " u'ruthless': <gensim.models.keyedvectors.Vocab at 0x10c529d90>,\n",
       " u'thunder': <gensim.models.keyedvectors.Vocab at 0x10ede3750>,\n",
       " u'cooking': <gensim.models.keyedvectors.Vocab at 0x10ec36f50>,\n",
       " u'contributed': <gensim.models.keyedvectors.Vocab at 0x10ef31f90>,\n",
       " u'fingers': <gensim.models.keyedvectors.Vocab at 0x10ef31fd0>,\n",
       " u'Until': <gensim.models.keyedvectors.Vocab at 0x10ede3190>,\n",
       " u'Hamilton': <gensim.models.keyedvectors.Vocab at 0x10ec36f90>,\n",
       " u'Niagara': <gensim.models.keyedvectors.Vocab at 0x10ee931d0>,\n",
       " u'increasing': <gensim.models.keyedvectors.Vocab at 0x10c529dd0>,\n",
       " u'admiral': <gensim.models.keyedvectors.Vocab at 0x10ede3790>,\n",
       " u'inducement': <gensim.models.keyedvectors.Vocab at 0x10ede37d0>,\n",
       " u'shure': <gensim.models.keyedvectors.Vocab at 0x10ede31d0>,\n",
       " u'_our_': <gensim.models.keyedvectors.Vocab at 0x10f06bd50>,\n",
       " u'crouch': <gensim.models.keyedvectors.Vocab at 0x10c0c3610>,\n",
       " u'Resina': <gensim.models.keyedvectors.Vocab at 0x10ede3810>,\n",
       " u'Horeb': <gensim.models.keyedvectors.Vocab at 0x10c0c3790>,\n",
       " u'herb': <gensim.models.keyedvectors.Vocab at 0x10ef37190>,\n",
       " u'fervent': <gensim.models.keyedvectors.Vocab at 0x10ef84f10>,\n",
       " u'splinter': <gensim.models.keyedvectors.Vocab at 0x10edee6d0>,\n",
       " u'here': <gensim.models.keyedvectors.Vocab at 0x10ef37210>,\n",
       " u'herd': <gensim.models.keyedvectors.Vocab at 0x10ef37250>,\n",
       " u'47': <gensim.models.keyedvectors.Vocab at 0x10eed4b50>,\n",
       " u'china': <gensim.models.keyedvectors.Vocab at 0x10c0c3590>,\n",
       " u'Menahem': <gensim.models.keyedvectors.Vocab at 0x10ee5c390>,\n",
       " u'kissing': <gensim.models.keyedvectors.Vocab at 0x10ef73490>,\n",
       " u'hers': <gensim.models.keyedvectors.Vocab at 0x10ef372d0>,\n",
       " u'shriek': <gensim.models.keyedvectors.Vocab at 0x10ef37310>,\n",
       " u'natured': <gensim.models.keyedvectors.Vocab at 0x10c0c3690>,\n",
       " u'kids': <gensim.models.keyedvectors.Vocab at 0x10c0c3890>,\n",
       " u'gardeners': <gensim.models.keyedvectors.Vocab at 0x10ee6c850>,\n",
       " u'unwillingness': <gensim.models.keyedvectors.Vocab at 0x10ede3890>,\n",
       " u'Dubosc': <gensim.models.keyedvectors.Vocab at 0x10c0c3710>,\n",
       " u'pretensions': <gensim.models.keyedvectors.Vocab at 0x10ef37350>,\n",
       " u'elaborate': <gensim.models.keyedvectors.Vocab at 0x10ede38d0>,\n",
       " u'climbed': <gensim.models.keyedvectors.Vocab at 0x10c3be050>,\n",
       " u'Ginger': <gensim.models.keyedvectors.Vocab at 0x10c3c9bd0>,\n",
       " u'controversy': <gensim.models.keyedvectors.Vocab at 0x10c3be0d0>,\n",
       " u'Haman': <gensim.models.keyedvectors.Vocab at 0x10c529e90>,\n",
       " u'natures': <gensim.models.keyedvectors.Vocab at 0x10c3be110>,\n",
       " u'NOT': <gensim.models.keyedvectors.Vocab at 0x10c529ed0>,\n",
       " u'military': <gensim.models.keyedvectors.Vocab at 0x10c529f10>,\n",
       " u'NOW': <gensim.models.keyedvectors.Vocab at 0x10c529f50>,\n",
       " u'delicacy': <gensim.models.keyedvectors.Vocab at 0x10eed9c90>,\n",
       " u'Isles': <gensim.models.keyedvectors.Vocab at 0x10c3c9e50>,\n",
       " u'Goliath': <gensim.models.keyedvectors.Vocab at 0x10c529f90>,\n",
       " u'golden': <gensim.models.keyedvectors.Vocab at 0x10c3be190>,\n",
       " u'whoso': <gensim.models.keyedvectors.Vocab at 0x10ee93e50>,\n",
       " u'divide': <gensim.models.keyedvectors.Vocab at 0x10c529fd0>,\n",
       " u'Heavenly': <gensim.models.keyedvectors.Vocab at 0x10eea9510>,\n",
       " u'owed': <gensim.models.keyedvectors.Vocab at 0x10ef37410>,\n",
       " u'geography': <gensim.models.keyedvectors.Vocab at 0x10ede3910>,\n",
       " u'Harvey': <gensim.models.keyedvectors.Vocab at 0x10c3be1d0>,\n",
       " u'explained': <gensim.models.keyedvectors.Vocab at 0x10c52e050>,\n",
       " u'lengthen': <gensim.models.keyedvectors.Vocab at 0x10c3be210>,\n",
       " u'Cass': <gensim.models.keyedvectors.Vocab at 0x10ec42f90>,\n",
       " u'summons': <gensim.models.keyedvectors.Vocab at 0x10c52e0d0>,\n",
       " u'brought': <gensim.models.keyedvectors.Vocab at 0x10ef37450>,\n",
       " u'allegory': <gensim.models.keyedvectors.Vocab at 0x10efe7b90>,\n",
       " u'remnant': <gensim.models.keyedvectors.Vocab at 0x10c52e110>,\n",
       " u'stern': <gensim.models.keyedvectors.Vocab at 0x10c3be250>,\n",
       " u'Wales': <gensim.models.keyedvectors.Vocab at 0x10ef37490>,\n",
       " u'Syrians': <gensim.models.keyedvectors.Vocab at 0x10ef374d0>,\n",
       " u'sunlit': <gensim.models.keyedvectors.Vocab at 0x10ede3990>,\n",
       " u'hoping': <gensim.models.keyedvectors.Vocab at 0x10ef37510>,\n",
       " u'Tarlton': <gensim.models.keyedvectors.Vocab at 0x10c3be290>,\n",
       " u'Guildensterne': <gensim.models.keyedvectors.Vocab at 0x10c52e150>,\n",
       " u'cheating': <gensim.models.keyedvectors.Vocab at 0x10c52e190>,\n",
       " u'frosty': <gensim.models.keyedvectors.Vocab at 0x10ee1ae90>,\n",
       " u'spoke': <gensim.models.keyedvectors.Vocab at 0x10c52e1d0>,\n",
       " u'reproaching': <gensim.models.keyedvectors.Vocab at 0x10efc0050>,\n",
       " u'impartiality': <gensim.models.keyedvectors.Vocab at 0x10c52e210>,\n",
       " u'exhort': <gensim.models.keyedvectors.Vocab at 0x10ef37550>,\n",
       " u'glimmering': <gensim.models.keyedvectors.Vocab at 0x10c52e250>,\n",
       " u'cannibal': <gensim.models.keyedvectors.Vocab at 0x10c3be2d0>,\n",
       " u'borrow': <gensim.models.keyedvectors.Vocab at 0x10ef58710>,\n",
       " u'occupying': <gensim.models.keyedvectors.Vocab at 0x10ef37590>,\n",
       " u'kettles': <gensim.models.keyedvectors.Vocab at 0x10c52e290>,\n",
       " u'music': <gensim.models.keyedvectors.Vocab at 0x10c3be310>,\n",
       " u'therefore': <gensim.models.keyedvectors.Vocab at 0x10c3be350>,\n",
       " u'violently': <gensim.models.keyedvectors.Vocab at 0x102987b10>,\n",
       " u'strike': <gensim.models.keyedvectors.Vocab at 0x10ede3a10>,\n",
       " u'turtledoves': <gensim.models.keyedvectors.Vocab at 0x10ef37610>,\n",
       " u'until': <gensim.models.keyedvectors.Vocab at 0x10ef37650>,\n",
       " u'Charity': <gensim.models.keyedvectors.Vocab at 0x10ef37690>,\n",
       " u'expiring': <gensim.models.keyedvectors.Vocab at 0x10ef376d0>,\n",
       " u'females': <gensim.models.keyedvectors.Vocab at 0x10ede3a90>,\n",
       " u'harden': <gensim.models.keyedvectors.Vocab at 0x10efe7090>,\n",
       " u'holy': <gensim.models.keyedvectors.Vocab at 0x10ef37710>,\n",
       " u'successful': <gensim.models.keyedvectors.Vocab at 0x10c52e2d0>,\n",
       " u'43': <gensim.models.keyedvectors.Vocab at 0x10eed4c50>,\n",
       " u'hereby': <gensim.models.keyedvectors.Vocab at 0x10ede3ad0>,\n",
       " u'whirling': <gensim.models.keyedvectors.Vocab at 0x10c52e350>,\n",
       " u'Rule': <gensim.models.keyedvectors.Vocab at 0x10ede3b10>,\n",
       " u'hurt': <gensim.models.keyedvectors.Vocab at 0x10c52e390>,\n",
       " u'99': <gensim.models.keyedvectors.Vocab at 0x10ef37790>,\n",
       " u'98': <gensim.models.keyedvectors.Vocab at 0x10edf91d0>,\n",
       " u'harmless': <gensim.models.keyedvectors.Vocab at 0x10f086050>,\n",
       " u'inwards': <gensim.models.keyedvectors.Vocab at 0x10ede3b50>,\n",
       " u'91': <gensim.models.keyedvectors.Vocab at 0x10ef37850>,\n",
       " u'90': <gensim.models.keyedvectors.Vocab at 0x10ef37890>,\n",
       " u'93': <gensim.models.keyedvectors.Vocab at 0x10c591750>,\n",
       " u'92': <gensim.models.keyedvectors.Vocab at 0x10edf9310>,\n",
       " u'95': <gensim.models.keyedvectors.Vocab at 0x10ef37950>,\n",
       " u'contemned': <gensim.models.keyedvectors.Vocab at 0x10ee93f10>,\n",
       " u'97': <gensim.models.keyedvectors.Vocab at 0x10ef379d0>,\n",
       " u'circumstances': <gensim.models.keyedvectors.Vocab at 0x10c3be410>,\n",
       " u'locked': <gensim.models.keyedvectors.Vocab at 0x10c3be450>,\n",
       " u'dreadful': <gensim.models.keyedvectors.Vocab at 0x10efc0090>,\n",
       " u'pursue': <gensim.models.keyedvectors.Vocab at 0x10ede3b90>,\n",
       " u'famed': <gensim.models.keyedvectors.Vocab at 0x10c52e3d0>,\n",
       " u'blade': <gensim.models.keyedvectors.Vocab at 0x10c52e410>,\n",
       " u'plunged': <gensim.models.keyedvectors.Vocab at 0x10ede3bd0>,\n",
       " u'Gogol': <gensim.models.keyedvectors.Vocab at 0x10c52e450>,\n",
       " u'sweeter': <gensim.models.keyedvectors.Vocab at 0x10ef37ad0>,\n",
       " u'leaped': <gensim.models.keyedvectors.Vocab at 0x10ef37b10>,\n",
       " u'example': <gensim.models.keyedvectors.Vocab at 0x10ede3c10>,\n",
       " u'transom': <gensim.models.keyedvectors.Vocab at 0x102987b50>,\n",
       " u'misfortunes': <gensim.models.keyedvectors.Vocab at 0x10c52e490>,\n",
       " u'vanities': <gensim.models.keyedvectors.Vocab at 0x10c52e4d0>,\n",
       " u'melons': <gensim.models.keyedvectors.Vocab at 0x10c52e510>,\n",
       " u'triple': <gensim.models.keyedvectors.Vocab at 0x10ef735d0>,\n",
       " u'wand': <gensim.models.keyedvectors.Vocab at 0x10c3be4d0>,\n",
       " u'La': <gensim.models.keyedvectors.Vocab at 0x10c3be510>,\n",
       " u'unjust': <gensim.models.keyedvectors.Vocab at 0x10c3be550>,\n",
       " u'household': <gensim.models.keyedvectors.Vocab at 0x10c52e550>,\n",
       " u'bitterest': <gensim.models.keyedvectors.Vocab at 0x10c52e590>,\n",
       " u'dragons': <gensim.models.keyedvectors.Vocab at 0x10c52e5d0>,\n",
       " u'Brian': <gensim.models.keyedvectors.Vocab at 0x10edf9d50>,\n",
       " u'caution': <gensim.models.keyedvectors.Vocab at 0x10ede3c50>,\n",
       " u'want': <gensim.models.keyedvectors.Vocab at 0x10c3be590>,\n",
       " u'perverseness': <gensim.models.keyedvectors.Vocab at 0x10f02e210>,\n",
       " u'cruising': <gensim.models.keyedvectors.Vocab at 0x10efec7d0>,\n",
       " u'seekest': <gensim.models.keyedvectors.Vocab at 0x10eef5850>,\n",
       " u'reprove': <gensim.models.keyedvectors.Vocab at 0x10c52e650>,\n",
       " u'absolute': <gensim.models.keyedvectors.Vocab at 0x10c3be5d0>,\n",
       " u'Eagle': <gensim.models.keyedvectors.Vocab at 0x10c52e690>,\n",
       " u'ungodly': <gensim.models.keyedvectors.Vocab at 0x10298c7d0>,\n",
       " u'knows': <gensim.models.keyedvectors.Vocab at 0x10ef0b1d0>,\n",
       " u'groaned': <gensim.models.keyedvectors.Vocab at 0x10c3d9090>,\n",
       " u'travel': <gensim.models.keyedvectors.Vocab at 0x10c3be610>,\n",
       " u'damage': <gensim.models.keyedvectors.Vocab at 0x10c52e6d0>,\n",
       " u'machine': <gensim.models.keyedvectors.Vocab at 0x10c52e710>,\n",
       " u'squeeze': <gensim.models.keyedvectors.Vocab at 0x10ef31750>,\n",
       " u'hot': <gensim.models.keyedvectors.Vocab at 0x10ef37c50>,\n",
       " u'hesitatingly': <gensim.models.keyedvectors.Vocab at 0x10ede3cd0>,\n",
       " u'hop': <gensim.models.keyedvectors.Vocab at 0x10ef37c90>,\n",
       " u'significance': <gensim.models.keyedvectors.Vocab at 0x10ef37cd0>,\n",
       " u'main': <gensim.models.keyedvectors.Vocab at 0x10f008d10>,\n",
       " u'tangled': <gensim.models.keyedvectors.Vocab at 0x10ede3d10>,\n",
       " u'chase': <gensim.models.keyedvectors.Vocab at 0x10ef73650>,\n",
       " u'cadence': <gensim.models.keyedvectors.Vocab at 0x10c3be650>,\n",
       " u'retreating': <gensim.models.keyedvectors.Vocab at 0x10f06be50>,\n",
       " u'A': <gensim.models.keyedvectors.Vocab at 0x10ef37d10>,\n",
       " u'abstraction': <gensim.models.keyedvectors.Vocab at 0x10ede3d90>,\n",
       " u'Bates': <gensim.models.keyedvectors.Vocab at 0x10c3be6d0>,\n",
       " u'beauty': <gensim.models.keyedvectors.Vocab at 0x10ef37d50>,\n",
       " u'peece': <gensim.models.keyedvectors.Vocab at 0x10c3be710>,\n",
       " u'swing': <gensim.models.keyedvectors.Vocab at 0x10eef5910>,\n",
       " u'Charming': <gensim.models.keyedvectors.Vocab at 0x10efaa650>,\n",
       " u'shores': <gensim.models.keyedvectors.Vocab at 0x10edfead0>,\n",
       " u'Players': <gensim.models.keyedvectors.Vocab at 0x10c4c6b90>,\n",
       " u'wrong': <gensim.models.keyedvectors.Vocab at 0x10c3be750>,\n",
       " u'Gittite': <gensim.models.keyedvectors.Vocab at 0x10ef736d0>,\n",
       " u'destined': <gensim.models.keyedvectors.Vocab at 0x10c52e790>,\n",
       " u'twined': <gensim.models.keyedvectors.Vocab at 0x10c3be790>,\n",
       " u'Aloud': <gensim.models.keyedvectors.Vocab at 0x10c3d9c50>,\n",
       " u'vase': <gensim.models.keyedvectors.Vocab at 0x10ee93f90>,\n",
       " u'types': <gensim.models.keyedvectors.Vocab at 0x10ede3e10>,\n",
       " u'keepe': <gensim.models.keyedvectors.Vocab at 0x10c52e7d0>,\n",
       " u'profess': <gensim.models.keyedvectors.Vocab at 0x10ee5c490>,\n",
       " u'calves': <gensim.models.keyedvectors.Vocab at 0x10c52e810>,\n",
       " u'scourge': <gensim.models.keyedvectors.Vocab at 0x10c52e850>,\n",
       " u'notable': <gensim.models.keyedvectors.Vocab at 0x10f0184d0>,\n",
       " u'endeavoured': <gensim.models.keyedvectors.Vocab at 0x10ef37d90>,\n",
       " u'youths': <gensim.models.keyedvectors.Vocab at 0x10ef37dd0>,\n",
       " u'sensitive': <gensim.models.keyedvectors.Vocab at 0x10efcb5d0>,\n",
       " u'revolt': <gensim.models.keyedvectors.Vocab at 0x10ef37e10>,\n",
       " u'presiding': <gensim.models.keyedvectors.Vocab at 0x10ef37e50>,\n",
       " u'sickening': <gensim.models.keyedvectors.Vocab at 0x10c3be7d0>,\n",
       " u'tulip': <gensim.models.keyedvectors.Vocab at 0x10c3be810>,\n",
       " u'Mabel': <gensim.models.keyedvectors.Vocab at 0x10c3be850>,\n",
       " u'keeps': <gensim.models.keyedvectors.Vocab at 0x10c52e910>,\n",
       " u'democratic': <gensim.models.keyedvectors.Vocab at 0x10ee04490>,\n",
       " u'mightier': <gensim.models.keyedvectors.Vocab at 0x10f0343d0>,\n",
       " u'wing': <gensim.models.keyedvectors.Vocab at 0x10c52e950>,\n",
       " u'wind': <gensim.models.keyedvectors.Vocab at 0x10c52e990>,\n",
       " u'wine': <gensim.models.keyedvectors.Vocab at 0x10c52e9d0>,\n",
       " u'blind': <gensim.models.keyedvectors.Vocab at 0x10c437450>,\n",
       " u'Cyrene': <gensim.models.keyedvectors.Vocab at 0x10efec810>,\n",
       " u'welcomed': <gensim.models.keyedvectors.Vocab at 0x10c3be8d0>,\n",
       " u'Eliashib': <gensim.models.keyedvectors.Vocab at 0x10c3be910>,\n",
       " u'concurrence': <gensim.models.keyedvectors.Vocab at 0x10c3be950>,\n",
       " u'govern': <gensim.models.keyedvectors.Vocab at 0x10ee93fd0>,\n",
       " u'Giant': <gensim.models.keyedvectors.Vocab at 0x10f06bf50>,\n",
       " u'subiect': <gensim.models.keyedvectors.Vocab at 0x10ede3ed0>,\n",
       " u'profaned': <gensim.models.keyedvectors.Vocab at 0x10c52ea10>,\n",
       " u'suspend': <gensim.models.keyedvectors.Vocab at 0x10f06bf90>,\n",
       " u'sunshine': <gensim.models.keyedvectors.Vocab at 0x10c5f4590>,\n",
       " u'ewe': <gensim.models.keyedvectors.Vocab at 0x10f02e2d0>,\n",
       " u'forbad': <gensim.models.keyedvectors.Vocab at 0x10f065110>,\n",
       " u'enquiring': <gensim.models.keyedvectors.Vocab at 0x10ede3f10>,\n",
       " u'fetched': <gensim.models.keyedvectors.Vocab at 0x10f06bfd0>,\n",
       " u'rewarded': <gensim.models.keyedvectors.Vocab at 0x10c3be9d0>,\n",
       " u'hook': <gensim.models.keyedvectors.Vocab at 0x10c5ef150>,\n",
       " u'wrought': <gensim.models.keyedvectors.Vocab at 0x10ede3f90>,\n",
       " u'playhouse': <gensim.models.keyedvectors.Vocab at 0x10c3bea10>,\n",
       " u'fir': <gensim.models.keyedvectors.Vocab at 0x10c3bea50>,\n",
       " u'His': <gensim.models.keyedvectors.Vocab at 0x10c3bea90>,\n",
       " u'wickedly': <gensim.models.keyedvectors.Vocab at 0x10c3bead0>,\n",
       " u'fit': <gensim.models.keyedvectors.Vocab at 0x10c3beb10>,\n",
       " u'screaming': <gensim.models.keyedvectors.Vocab at 0x10c3beb50>,\n",
       " u'fix': <gensim.models.keyedvectors.Vocab at 0x10c3beb90>,\n",
       " u'occupations': <gensim.models.keyedvectors.Vocab at 0x10efb0a90>,\n",
       " u'Kadesh': <gensim.models.keyedvectors.Vocab at 0x10efd1ad0>,\n",
       " u'Zarhites': <gensim.models.keyedvectors.Vocab at 0x10ede8050>,\n",
       " u'Montague': <gensim.models.keyedvectors.Vocab at 0x10c3bec10>,\n",
       " u'Harris': <gensim.models.keyedvectors.Vocab at 0x10c52ea90>,\n",
       " u'fig': <gensim.models.keyedvectors.Vocab at 0x10c3bec50>,\n",
       " u'ringstraked': <gensim.models.keyedvectors.Vocab at 0x10ef89bd0>,\n",
       " u'fie': <gensim.models.keyedvectors.Vocab at 0x10c3bec90>,\n",
       " u'nobler': <gensim.models.keyedvectors.Vocab at 0x10ef3c0d0>,\n",
       " u'Know': <gensim.models.keyedvectors.Vocab at 0x10eed4d10>,\n",
       " u'hidden': <gensim.models.keyedvectors.Vocab at 0x10c52ead0>,\n",
       " u'fin': <gensim.models.keyedvectors.Vocab at 0x10c3becd0>,\n",
       " u'Him': <gensim.models.keyedvectors.Vocab at 0x10c3bed10>,\n",
       " u'Hin': <gensim.models.keyedvectors.Vocab at 0x10c3bed50>,\n",
       " u'Lest': <gensim.models.keyedvectors.Vocab at 0x10ede33d0>,\n",
       " u'glorify': <gensim.models.keyedvectors.Vocab at 0x10c52eb10>,\n",
       " u'grievous': <gensim.models.keyedvectors.Vocab at 0x10ef3c1d0>,\n",
       " u'copying': <gensim.models.keyedvectors.Vocab at 0x10c626150>,\n",
       " u'Hickory': <gensim.models.keyedvectors.Vocab at 0x10c3bedd0>,\n",
       " u'enrich': <gensim.models.keyedvectors.Vocab at 0x10c52eb50>,\n",
       " u'slate': <gensim.models.keyedvectors.Vocab at 0x10ede8190>,\n",
       " u'Zichri': <gensim.models.keyedvectors.Vocab at 0x10ede81d0>,\n",
       " u'Seth': <gensim.models.keyedvectors.Vocab at 0x10ef3c210>,\n",
       " u'disturb': <gensim.models.keyedvectors.Vocab at 0x10ede3410>,\n",
       " u'MRS': <gensim.models.keyedvectors.Vocab at 0x10ee09390>,\n",
       " u'throned': <gensim.models.keyedvectors.Vocab at 0x10ede8210>,\n",
       " u'raiseth': <gensim.models.keyedvectors.Vocab at 0x10c3bee10>,\n",
       " u'effects': <gensim.models.keyedvectors.Vocab at 0x10c3bee50>,\n",
       " u'schools': <gensim.models.keyedvectors.Vocab at 0x10c3e4610>,\n",
       " u'beaux': <gensim.models.keyedvectors.Vocab at 0x10ef3c250>,\n",
       " u'sixteen': <gensim.models.keyedvectors.Vocab at 0x10c3bee90>,\n",
       " u'silver': <gensim.models.keyedvectors.Vocab at 0x10c52eb90>,\n",
       " u'scholar': <gensim.models.keyedvectors.Vocab at 0x10ef31d90>,\n",
       " u'rumour': <gensim.models.keyedvectors.Vocab at 0x10c52ebd0>,\n",
       " u'clumsy': <gensim.models.keyedvectors.Vocab at 0x10ef3c290>,\n",
       " u'strayed': <gensim.models.keyedvectors.Vocab at 0x10ef3c2d0>,\n",
       " u'Sepharvaim': <gensim.models.keyedvectors.Vocab at 0x10eef5a10>,\n",
       " u'successfully': <gensim.models.keyedvectors.Vocab at 0x10eeea550>,\n",
       " u'Shame': <gensim.models.keyedvectors.Vocab at 0x10c3beed0>,\n",
       " u'mob': <gensim.models.keyedvectors.Vocab at 0x10f018150>,\n",
       " u'arrow': <gensim.models.keyedvectors.Vocab at 0x10c3bef10>,\n",
       " u'poisonous': <gensim.models.keyedvectors.Vocab at 0x10eee4050>,\n",
       " u'lightness': <gensim.models.keyedvectors.Vocab at 0x10f029d50>,\n",
       " u'Mouse': <gensim.models.keyedvectors.Vocab at 0x10c3e4d10>,\n",
       " u'moving': <gensim.models.keyedvectors.Vocab at 0x10f0911d0>,\n",
       " u'blushed': <gensim.models.keyedvectors.Vocab at 0x10ef3c350>,\n",
       " u'Borne': <gensim.models.keyedvectors.Vocab at 0x10c3e4f10>,\n",
       " u'burial': <gensim.models.keyedvectors.Vocab at 0x10c3bef50>,\n",
       " u'preceded': <gensim.models.keyedvectors.Vocab at 0x10c52ec90>,\n",
       " u'Curse': <gensim.models.keyedvectors.Vocab at 0x10ee09bd0>,\n",
       " u'telescope': <gensim.models.keyedvectors.Vocab at 0x10c3bef90>,\n",
       " u'woes': <gensim.models.keyedvectors.Vocab at 0x10c52ed10>,\n",
       " u'concord': <gensim.models.keyedvectors.Vocab at 0x10ef3c410>,\n",
       " u'garment': <gensim.models.keyedvectors.Vocab at 0x10c52ed50>,\n",
       " u'Eliza': <gensim.models.keyedvectors.Vocab at 0x10ef3c450>,\n",
       " u'stronger': <gensim.models.keyedvectors.Vocab at 0x10ef84f50>,\n",
       " u'bowls': <gensim.models.keyedvectors.Vocab at 0x10c52ed90>,\n",
       " u'contracting': <gensim.models.keyedvectors.Vocab at 0x10ef3c490>,\n",
       " u'precedes': <gensim.models.keyedvectors.Vocab at 0x10c52edd0>,\n",
       " u'fortnight': <gensim.models.keyedvectors.Vocab at 0x10c52ee10>,\n",
       " u'impossible': <gensim.models.keyedvectors.Vocab at 0x10c5a7790>,\n",
       " u'cathedral': <gensim.models.keyedvectors.Vocab at 0x10ef3c4d0>,\n",
       " u'whit': <gensim.models.keyedvectors.Vocab at 0x10ef3c510>,\n",
       " u'blinded': <gensim.models.keyedvectors.Vocab at 0x10c52ee50>,\n",
       " u'whip': <gensim.models.keyedvectors.Vocab at 0x10ee0f390>,\n",
       " u'borne': <gensim.models.keyedvectors.Vocab at 0x10ef3c550>,\n",
       " u'misfortune': <gensim.models.keyedvectors.Vocab at 0x10ef3c590>,\n",
       " u'ha': <gensim.models.keyedvectors.Vocab at 0x10c5e43d0>,\n",
       " u'excepting': <gensim.models.keyedvectors.Vocab at 0x10ef3c5d0>,\n",
       " u'persisted': <gensim.models.keyedvectors.Vocab at 0x10ede3510>,\n",
       " u'weeping': <gensim.models.keyedvectors.Vocab at 0x10f097d10>,\n",
       " u'mason': <gensim.models.keyedvectors.Vocab at 0x10c3c3050>,\n",
       " u're': <gensim.models.keyedvectors.Vocab at 0x10ede8350>,\n",
       " u'encourage': <gensim.models.keyedvectors.Vocab at 0x10c3c3090>,\n",
       " u'groans': <gensim.models.keyedvectors.Vocab at 0x10f04a090>,\n",
       " u'Rabbit': <gensim.models.keyedvectors.Vocab at 0x10ef3c610>,\n",
       " u'millions': <gensim.models.keyedvectors.Vocab at 0x10eda6550>,\n",
       " u'Vanity': <gensim.models.keyedvectors.Vocab at 0x10ef3c650>,\n",
       " u'Josiah': <gensim.models.keyedvectors.Vocab at 0x10ede83d0>,\n",
       " u'foundation': <gensim.models.keyedvectors.Vocab at 0x10ede8410>,\n",
       " u'stamping': <gensim.models.keyedvectors.Vocab at 0x10c3c3110>,\n",
       " u'Word': <gensim.models.keyedvectors.Vocab at 0x10ede8450>,\n",
       " u'Reynol': <gensim.models.keyedvectors.Vocab at 0x10c3c3150>,\n",
       " u'assured': <gensim.models.keyedvectors.Vocab at 0x10c52ee90>,\n",
       " u'leopard': <gensim.models.keyedvectors.Vocab at 0x10f02e390>,\n",
       " u'wavered': <gensim.models.keyedvectors.Vocab at 0x10ede3550>,\n",
       " u'threatened': <gensim.models.keyedvectors.Vocab at 0x10ede8510>,\n",
       " u'strata': <gensim.models.keyedvectors.Vocab at 0x10c3c3190>,\n",
       " u'_her_': <gensim.models.keyedvectors.Vocab at 0x10c52ef10>,\n",
       " u'yesterday': <gensim.models.keyedvectors.Vocab at 0x10f02e3d0>,\n",
       " u'faculties': <gensim.models.keyedvectors.Vocab at 0x10ede8590>,\n",
       " u'grapes': <gensim.models.keyedvectors.Vocab at 0x10ef3c710>,\n",
       " u'element': <gensim.models.keyedvectors.Vocab at 0x10ef3c750>,\n",
       " u'crowned': <gensim.models.keyedvectors.Vocab at 0x10ede85d0>,\n",
       " u'estimate': <gensim.models.keyedvectors.Vocab at 0x10c3c31d0>,\n",
       " u'contrition': <gensim.models.keyedvectors.Vocab at 0x10ee1f450>,\n",
       " u'laburnum': <gensim.models.keyedvectors.Vocab at 0x10c3c3210>,\n",
       " u'universally': <gensim.models.keyedvectors.Vocab at 0x10c3c3250>,\n",
       " u'Hora': <gensim.models.keyedvectors.Vocab at 0x10c52efd0>,\n",
       " u'husbands': <gensim.models.keyedvectors.Vocab at 0x10f097bd0>,\n",
       " u'enormous': <gensim.models.keyedvectors.Vocab at 0x10ede8610>,\n",
       " u'ate': <gensim.models.keyedvectors.Vocab at 0x10ef3c810>,\n",
       " u'district': <gensim.models.keyedvectors.Vocab at 0x10c534090>,\n",
       " u'shelves': <gensim.models.keyedvectors.Vocab at 0x10ef3c850>,\n",
       " u'selfe': <gensim.models.keyedvectors.Vocab at 0x10c3c3290>,\n",
       " u'flurry': <gensim.models.keyedvectors.Vocab at 0x10f02e450>,\n",
       " u'graces': <gensim.models.keyedvectors.Vocab at 0x10ee981d0>,\n",
       " u'eares': <gensim.models.keyedvectors.Vocab at 0x10ede8650>,\n",
       " u'shipped': <gensim.models.keyedvectors.Vocab at 0x10ede8690>,\n",
       " u'disturbed': <gensim.models.keyedvectors.Vocab at 0x10c3c32d0>,\n",
       " u'speedy': <gensim.models.keyedvectors.Vocab at 0x10ede86d0>,\n",
       " u'Human': <gensim.models.keyedvectors.Vocab at 0x10c5340d0>,\n",
       " u'reserving': <gensim.models.keyedvectors.Vocab at 0x10ede8750>,\n",
       " u'Amaziah': <gensim.models.keyedvectors.Vocab at 0x10ee1f490>,\n",
       " u'clothes': <gensim.models.keyedvectors.Vocab at 0x10c5e4b90>,\n",
       " u'speeds': <gensim.models.keyedvectors.Vocab at 0x10ede8790>,\n",
       " u'purpose': <gensim.models.keyedvectors.Vocab at 0x102987dd0>,\n",
       " u'Levites': <gensim.models.keyedvectors.Vocab at 0x10c3c3310>,\n",
       " u'lightened': <gensim.models.keyedvectors.Vocab at 0x10c5a7950>,\n",
       " u'impression': <gensim.models.keyedvectors.Vocab at 0x10efe1590>,\n",
       " u'foreskins': <gensim.models.keyedvectors.Vocab at 0x10efec910>,\n",
       " u'playfully': <gensim.models.keyedvectors.Vocab at 0x10ef3c990>,\n",
       " u'Please': <gensim.models.keyedvectors.Vocab at 0x10c534150>,\n",
       " u'wast': <gensim.models.keyedvectors.Vocab at 0x10c534190>,\n",
       " u'channels': <gensim.models.keyedvectors.Vocab at 0x10ede87d0>,\n",
       " u'Chants': <gensim.models.keyedvectors.Vocab at 0x10c3c3390>,\n",
       " u'instruct': <gensim.models.keyedvectors.Vocab at 0x10c534210>,\n",
       " u'Merlin': <gensim.models.keyedvectors.Vocab at 0x10c44d890>,\n",
       " u'clamorous': <gensim.models.keyedvectors.Vocab at 0x10c3c33d0>,\n",
       " u'wasn': <gensim.models.keyedvectors.Vocab at 0x10c534250>,\n",
       " u'sallied': <gensim.models.keyedvectors.Vocab at 0x10ede8890>,\n",
       " u'curing': <gensim.models.keyedvectors.Vocab at 0x10eef50d0>,\n",
       " u'specially': <gensim.models.keyedvectors.Vocab at 0x10ede3610>,\n",
       " u'bitten': <gensim.models.keyedvectors.Vocab at 0x10ef3ca10>,\n",
       " u'Exeunt': <gensim.models.keyedvectors.Vocab at 0x10c3c3410>,\n",
       " u'service': <gensim.models.keyedvectors.Vocab at 0x10c3c3450>,\n",
       " u'Fearless': <gensim.models.keyedvectors.Vocab at 0x10c3c3490>,\n",
       " u'engagement': <gensim.models.keyedvectors.Vocab at 0x10c534290>,\n",
       " u'needed': <gensim.models.keyedvectors.Vocab at 0x10c3c34d0>,\n",
       " u'perturbations': <gensim.models.keyedvectors.Vocab at 0x10c3f5510>,\n",
       " u'master': <gensim.models.keyedvectors.Vocab at 0x10c3c3510>,\n",
       " u'blossoms': <gensim.models.keyedvectors.Vocab at 0x10c5342d0>,\n",
       " u'chaises': <gensim.models.keyedvectors.Vocab at 0x10c597490>,\n",
       " u'manger': <gensim.models.keyedvectors.Vocab at 0x10ef6eb10>,\n",
       " u'architect': <gensim.models.keyedvectors.Vocab at 0x10ef10550>,\n",
       " u'legs': <gensim.models.keyedvectors.Vocab at 0x10c534350>,\n",
       " u'bitter': <gensim.models.keyedvectors.Vocab at 0x10ef3ca50>,\n",
       " u'ranging': <gensim.models.keyedvectors.Vocab at 0x10ef3ca90>,\n",
       " u'listen': <gensim.models.keyedvectors.Vocab at 0x10c534390>,\n",
       " u'rewards': <gensim.models.keyedvectors.Vocab at 0x10c3c3550>,\n",
       " u'collapse': <gensim.models.keyedvectors.Vocab at 0x10c5343d0>,\n",
       " u'cushions': <gensim.models.keyedvectors.Vocab at 0x10ef3cb10>,\n",
       " u'stake': <gensim.models.keyedvectors.Vocab at 0x10efa5d10>,\n",
       " u'wisdom': <gensim.models.keyedvectors.Vocab at 0x10c534410>,\n",
       " u'motionless': <gensim.models.keyedvectors.Vocab at 0x102987e90>,\n",
       " u'Victory': <gensim.models.keyedvectors.Vocab at 0x10ef3cb50>,\n",
       " u'palsy': <gensim.models.keyedvectors.Vocab at 0x10ef3cb90>,\n",
       " u'crawl': <gensim.models.keyedvectors.Vocab at 0x10ede8910>,\n",
       " u'lunged': <gensim.models.keyedvectors.Vocab at 0x10ede8950>,\n",
       " u'positively': <gensim.models.keyedvectors.Vocab at 0x10c3c3590>,\n",
       " u').--': <gensim.models.keyedvectors.Vocab at 0x10ef3cbd0>,\n",
       " u'Beautiful': <gensim.models.keyedvectors.Vocab at 0x10c534450>,\n",
       " u'Meshach': <gensim.models.keyedvectors.Vocab at 0x10ef3cc10>,\n",
       " u'peril': <gensim.models.keyedvectors.Vocab at 0x10ef3cc50>,\n",
       " u'exultation': <gensim.models.keyedvectors.Vocab at 0x10ede8990>,\n",
       " u'showed': <gensim.models.keyedvectors.Vocab at 0x10ede89d0>,\n",
       " u'Matthew': <gensim.models.keyedvectors.Vocab at 0x10ede8a10>,\n",
       " u'outlaw': <gensim.models.keyedvectors.Vocab at 0x10c534490>,\n",
       " u'tree': <gensim.models.keyedvectors.Vocab at 0x10ede8a50>,\n",
       " u'idly': <gensim.models.keyedvectors.Vocab at 0x10c3c35d0>,\n",
       " u'blasphemer': <gensim.models.keyedvectors.Vocab at 0x10ede8a90>,\n",
       " u'project': <gensim.models.keyedvectors.Vocab at 0x10c3fa190>,\n",
       " u'pioneer': <gensim.models.keyedvectors.Vocab at 0x10eebf950>,\n",
       " u'idle': <gensim.models.keyedvectors.Vocab at 0x10c3c3610>,\n",
       " u'exclaimed': <gensim.models.keyedvectors.Vocab at 0x10c3c3650>,\n",
       " u'Seraph': <gensim.models.keyedvectors.Vocab at 0x10c3c3690>,\n",
       " u'profitable': <gensim.models.keyedvectors.Vocab at 0x10ef16b50>,\n",
       " u'spermaceti': <gensim.models.keyedvectors.Vocab at 0x10c3fa290>,\n",
       " u'103': <gensim.models.keyedvectors.Vocab at 0x10ee98410>,\n",
       " u'feeling': <gensim.models.keyedvectors.Vocab at 0x10c3c36d0>,\n",
       " u'acquisition': <gensim.models.keyedvectors.Vocab at 0x10ef3ccd0>,\n",
       " u'Sherebiah': <gensim.models.keyedvectors.Vocab at 0x10ef9f110>,\n",
       " u'seduced': <gensim.models.keyedvectors.Vocab at 0x10eef5cd0>,\n",
       " u'Angell': <gensim.models.keyedvectors.Vocab at 0x10ee1ae10>,\n",
       " u'groaning': <gensim.models.keyedvectors.Vocab at 0x10c534590>,\n",
       " u'willingness': <gensim.models.keyedvectors.Vocab at 0x10ede8b90>,\n",
       " u'Chicago': <gensim.models.keyedvectors.Vocab at 0x10c3c3710>,\n",
       " u'believest': <gensim.models.keyedvectors.Vocab at 0x10ef3cd10>,\n",
       " u'wealth': <gensim.models.keyedvectors.Vocab at 0x10eeaecd0>,\n",
       " u'Abishua': <gensim.models.keyedvectors.Vocab at 0x10ef3cd90>,\n",
       " u'craven': <gensim.models.keyedvectors.Vocab at 0x102987ed0>,\n",
       " u'headland': <gensim.models.keyedvectors.Vocab at 0x10ef3cdd0>,\n",
       " u'humouredly': <gensim.models.keyedvectors.Vocab at 0x10c5345d0>,\n",
       " u'brawny': <gensim.models.keyedvectors.Vocab at 0x10c3c3750>,\n",
       " u'Son': <gensim.models.keyedvectors.Vocab at 0x10ee1f590>,\n",
       " u'Angels': <gensim.models.keyedvectors.Vocab at 0x10c534610>,\n",
       " u'Williams': <gensim.models.keyedvectors.Vocab at 0x10c534650>,\n",
       " u'dozen': <gensim.models.keyedvectors.Vocab at 0x10c3c37d0>,\n",
       " u'doore': <gensim.models.keyedvectors.Vocab at 0x10ede8c10>,\n",
       " u'affairs': <gensim.models.keyedvectors.Vocab at 0x10c3c3810>,\n",
       " u'Them': <gensim.models.keyedvectors.Vocab at 0x10c3c3850>,\n",
       " u'Thel': <gensim.models.keyedvectors.Vocab at 0x10c3c3890>,\n",
       " u'wholesome': <gensim.models.keyedvectors.Vocab at 0x10c3c38d0>,\n",
       " u'mostly': <gensim.models.keyedvectors.Vocab at 0x10c5a7a50>,\n",
       " u'regretting': <gensim.models.keyedvectors.Vocab at 0x10c56b690>,\n",
       " u'mill': <gensim.models.keyedvectors.Vocab at 0x10f0027d0>,\n",
       " u'Thee': <gensim.models.keyedvectors.Vocab at 0x10c3c3950>,\n",
       " u'uncouth': <gensim.models.keyedvectors.Vocab at 0x10c3c3990>,\n",
       " u'gripe': <gensim.models.keyedvectors.Vocab at 0x10ede8cd0>,\n",
       " u'haste': <gensim.models.keyedvectors.Vocab at 0x10ee40550>,\n",
       " u'eagerly': <gensim.models.keyedvectors.Vocab at 0x10c534710>,\n",
       " u'lavers': <gensim.models.keyedvectors.Vocab at 0x10efec9d0>,\n",
       " u'NANTUCKET': <gensim.models.keyedvectors.Vocab at 0x10c534750>,\n",
       " u'causing': <gensim.models.keyedvectors.Vocab at 0x10c534790>,\n",
       " u'absorbed': <gensim.models.keyedvectors.Vocab at 0x10ef3ce10>,\n",
       " u'amusing': <gensim.models.keyedvectors.Vocab at 0x10ede8d50>,\n",
       " u'They': <gensim.models.keyedvectors.Vocab at 0x10c3c39d0>,\n",
       " u'hum': <gensim.models.keyedvectors.Vocab at 0x10eda6750>,\n",
       " u'Ask': <gensim.models.keyedvectors.Vocab at 0x10ede8e10>,\n",
       " u'Frode': <gensim.models.keyedvectors.Vocab at 0x10c5347d0>,\n",
       " u'Bani': <gensim.models.keyedvectors.Vocab at 0x10c534810>,\n",
       " u'Bank': <gensim.models.keyedvectors.Vocab at 0x10ee1f850>,\n",
       " u'imprudent': <gensim.models.keyedvectors.Vocab at 0x10ede8e50>,\n",
       " u'Jones': <gensim.models.keyedvectors.Vocab at 0x10ede8e90>,\n",
       " u'Seir': <gensim.models.keyedvectors.Vocab at 0x10c3c3a10>,\n",
       " u'Messiah': <gensim.models.keyedvectors.Vocab at 0x10efdc850>,\n",
       " u'Wise': <gensim.models.keyedvectors.Vocab at 0x10c534850>,\n",
       " u'Gabriel': <gensim.models.keyedvectors.Vocab at 0x10ef3ce90>,\n",
       " u'shall': <gensim.models.keyedvectors.Vocab at 0x10ef3ced0>,\n",
       " u'Jotham': <gensim.models.keyedvectors.Vocab at 0x10c3c3a50>,\n",
       " u'limitless': <gensim.models.keyedvectors.Vocab at 0x10c3c3a90>,\n",
       " u'wells': <gensim.models.keyedvectors.Vocab at 0x10ede8ed0>,\n",
       " u'toil': <gensim.models.keyedvectors.Vocab at 0x102987f10>,\n",
       " u'mouth': <gensim.models.keyedvectors.Vocab at 0x10c3c3ad0>,\n",
       " u'reverence': <gensim.models.keyedvectors.Vocab at 0x10c3c3b10>,\n",
       " u'drought': <gensim.models.keyedvectors.Vocab at 0x10c5348d0>,\n",
       " u'morality': <gensim.models.keyedvectors.Vocab at 0x10c534910>,\n",
       " u'expound': <gensim.models.keyedvectors.Vocab at 0x10c3c3b90>,\n",
       " u'singer': <gensim.models.keyedvectors.Vocab at 0x10c3c3bd0>,\n",
       " u'chemistry': <gensim.models.keyedvectors.Vocab at 0x10c626410>,\n",
       " u'released': <gensim.models.keyedvectors.Vocab at 0x10eef5d50>,\n",
       " u'grove': <gensim.models.keyedvectors.Vocab at 0x10c534950>,\n",
       " u'professor': <gensim.models.keyedvectors.Vocab at 0x10c534990>,\n",
       " u'Kingston': <gensim.models.keyedvectors.Vocab at 0x10c5349d0>,\n",
       " u'desirous': <gensim.models.keyedvectors.Vocab at 0x10c5e4cd0>,\n",
       " u'singed': <gensim.models.keyedvectors.Vocab at 0x10c3c3c10>,\n",
       " u'fugitives': <gensim.models.keyedvectors.Vocab at 0x10c3c3c50>,\n",
       " u'Mansion': <gensim.models.keyedvectors.Vocab at 0x10ef42050>,\n",
       " u'nineteenth': <gensim.models.keyedvectors.Vocab at 0x10ef42090>,\n",
       " u'How': <gensim.models.keyedvectors.Vocab at 0x10ef63390>,\n",
       " u'scream': <gensim.models.keyedvectors.Vocab at 0x10c3c3c90>,\n",
       " u'came': <gensim.models.keyedvectors.Vocab at 0x10ede8f50>,\n",
       " u'marvel': <gensim.models.keyedvectors.Vocab at 0x10ef42110>,\n",
       " u'saying': <gensim.models.keyedvectors.Vocab at 0x10c3c3cd0>,\n",
       " u'bomb': <gensim.models.keyedvectors.Vocab at 0x10c534a50>,\n",
       " u'departing': <gensim.models.keyedvectors.Vocab at 0x10c534a90>,\n",
       " u'insects': <gensim.models.keyedvectors.Vocab at 0x10ede8fd0>,\n",
       " u'meetings': <gensim.models.keyedvectors.Vocab at 0x10edee050>,\n",
       " u'tempter': <gensim.models.keyedvectors.Vocab at 0x10c3c3d10>,\n",
       " u'liest': <gensim.models.keyedvectors.Vocab at 0x10ef42190>,\n",
       " u'padded': <gensim.models.keyedvectors.Vocab at 0x10c3c3d50>,\n",
       " u'regiments': <gensim.models.keyedvectors.Vocab at 0x10ef9a210>,\n",
       " u'Paradise': <gensim.models.keyedvectors.Vocab at 0x10ef421d0>,\n",
       " u'thinketh': <gensim.models.keyedvectors.Vocab at 0x10edee0d0>,\n",
       " u'tempted': <gensim.models.keyedvectors.Vocab at 0x10c3c3d90>,\n",
       " u'driving': <gensim.models.keyedvectors.Vocab at 0x10f055990>,\n",
       " u'abreast': <gensim.models.keyedvectors.Vocab at 0x10edee110>,\n",
       " u'Gomorrah': <gensim.models.keyedvectors.Vocab at 0x102987f90>,\n",
       " u'lessons': <gensim.models.keyedvectors.Vocab at 0x10edee150>,\n",
       " u'apace': <gensim.models.keyedvectors.Vocab at 0x10c3c3e10>,\n",
       " u'touches': <gensim.models.keyedvectors.Vocab at 0x10ef42290>,\n",
       " u'copy': <gensim.models.keyedvectors.Vocab at 0x10eef5e10>,\n",
       " u'shuffling': <gensim.models.keyedvectors.Vocab at 0x10c534b10>,\n",
       " u'quaint': <gensim.models.keyedvectors.Vocab at 0x10edee190>,\n",
       " u'cousins': <gensim.models.keyedvectors.Vocab at 0x10c534b50>,\n",
       " u'105': <gensim.models.keyedvectors.Vocab at 0x10ee98590>,\n",
       " u'mens': <gensim.models.keyedvectors.Vocab at 0x10c534b90>,\n",
       " u'extasie': <gensim.models.keyedvectors.Vocab at 0x10edee1d0>,\n",
       " u'theme': <gensim.models.keyedvectors.Vocab at 0x10c534bd0>,\n",
       " u'Peradventure': <gensim.models.keyedvectors.Vocab at 0x10ef42350>,\n",
       " u'bliss': <gensim.models.keyedvectors.Vocab at 0x10c4055d0>,\n",
       " u'touched': <gensim.models.keyedvectors.Vocab at 0x10ef42390>,\n",
       " u'rich': <gensim.models.keyedvectors.Vocab at 0x10c3c3e50>,\n",
       " u'mend': <gensim.models.keyedvectors.Vocab at 0x10c534c10>,\n",
       " u'rice': <gensim.models.keyedvectors.Vocab at 0x10c3c3e90>,\n",
       " u'plate': <gensim.models.keyedvectors.Vocab at 0x10c3c3ed0>,\n",
       " u'remotest': <gensim.models.keyedvectors.Vocab at 0x10c3c3f10>,\n",
       " u'strip': <gensim.models.keyedvectors.Vocab at 0x10f03f150>,\n",
       " u'Churchills': <gensim.models.keyedvectors.Vocab at 0x10ef42410>,\n",
       " u'Nevertheless': <gensim.models.keyedvectors.Vocab at 0x10c405910>,\n",
       " u'stammered': <gensim.models.keyedvectors.Vocab at 0x10ef42450>,\n",
       " u'denounce': <gensim.models.keyedvectors.Vocab at 0x10edee250>,\n",
       " u'terrors': <gensim.models.keyedvectors.Vocab at 0x10edee290>,\n",
       " u'foremost': <gensim.models.keyedvectors.Vocab at 0x10edee2d0>,\n",
       " u'pocket': <gensim.models.keyedvectors.Vocab at 0x10edee310>,\n",
       " u'anxious': <gensim.models.keyedvectors.Vocab at 0x10efcbe90>,\n",
       " u'altogether': <gensim.models.keyedvectors.Vocab at 0x10c3c3f90>,\n",
       " u'X': <gensim.models.keyedvectors.Vocab at 0x10ef42490>,\n",
       " u'givest': <gensim.models.keyedvectors.Vocab at 0x10c3c9050>,\n",
       " u'relish': <gensim.models.keyedvectors.Vocab at 0x10edee350>,\n",
       " u'Colorado': <gensim.models.keyedvectors.Vocab at 0x10ef424d0>,\n",
       " u'Senators': <gensim.models.keyedvectors.Vocab at 0x10c3c9090>,\n",
       " u'avenger': <gensim.models.keyedvectors.Vocab at 0x10c534c90>,\n",
       " u'nicely': <gensim.models.keyedvectors.Vocab at 0x10c3c90d0>,\n",
       " u'ever': <gensim.models.keyedvectors.Vocab at 0x10efecb90>,\n",
       " u'boarder': <gensim.models.keyedvectors.Vocab at 0x10c3c9110>,\n",
       " u'Prayers': <gensim.models.keyedvectors.Vocab at 0x10ee5c750>,\n",
       " u'dipping': <gensim.models.keyedvectors.Vocab at 0x10edee390>,\n",
       " u'patch': <gensim.models.keyedvectors.Vocab at 0x10c3c9150>,\n",
       " u'Rio': <gensim.models.keyedvectors.Vocab at 0x10c3c9190>,\n",
       " u'eyelids': <gensim.models.keyedvectors.Vocab at 0x10c3c91d0>,\n",
       " u'avenged': <gensim.models.keyedvectors.Vocab at 0x10c534cd0>,\n",
       " u'XVII': <gensim.models.keyedvectors.Vocab at 0x10c40b290>,\n",
       " u'harbors': <gensim.models.keyedvectors.Vocab at 0x10c534d10>,\n",
       " u'flanked': <gensim.models.keyedvectors.Vocab at 0x10c534d50>,\n",
       " u'eventually': <gensim.models.keyedvectors.Vocab at 0x10ef9a050>,\n",
       " u'release': <gensim.models.keyedvectors.Vocab at 0x10ef42550>,\n",
       " u'Rig': <gensim.models.keyedvectors.Vocab at 0x10c3c9210>,\n",
       " u'Rid': <gensim.models.keyedvectors.Vocab at 0x10c3c9250>,\n",
       " u'hasten': <gensim.models.keyedvectors.Vocab at 0x10edee510>,\n",
       " u'boarded': <gensim.models.keyedvectors.Vocab at 0x10c3c9290>,\n",
       " u'circling': <gensim.models.keyedvectors.Vocab at 0x10ec42090>,\n",
       " u'respond': <gensim.models.keyedvectors.Vocab at 0x10ee2a9d0>,\n",
       " u'blew': <gensim.models.keyedvectors.Vocab at 0x10c534d90>,\n",
       " u'creepeth': <gensim.models.keyedvectors.Vocab at 0x10f04f950>,\n",
       " u'disaster': <gensim.models.keyedvectors.Vocab at 0x10c534dd0>,\n",
       " u'fair': <gensim.models.keyedvectors.Vocab at 0x10c534e10>,\n",
       " u'specialist': <gensim.models.keyedvectors.Vocab at 0x10ef370d0>,\n",
       " u'expediency': <gensim.models.keyedvectors.Vocab at 0x10ef425d0>,\n",
       " u'_You_': <gensim.models.keyedvectors.Vocab at 0x10c3c92d0>,\n",
       " u'unexpectedly': <gensim.models.keyedvectors.Vocab at 0x10ef42610>,\n",
       " u'goodnight': <gensim.models.keyedvectors.Vocab at 0x10ef42650>,\n",
       " u'result': <gensim.models.keyedvectors.Vocab at 0x10ef42690>,\n",
       " u'straits': <gensim.models.keyedvectors.Vocab at 0x10ef9fbd0>,\n",
       " u'fail': <gensim.models.keyedvectors.Vocab at 0x10c534e90>,\n",
       " u'hero': <gensim.models.keyedvectors.Vocab at 0x10ef37110>,\n",
       " u'fain': <gensim.models.keyedvectors.Vocab at 0x10c534ed0>,\n",
       " u'resigned': <gensim.models.keyedvectors.Vocab at 0x10edee550>,\n",
       " u'skulls': <gensim.models.keyedvectors.Vocab at 0x10ee2af90>,\n",
       " u'best': <gensim.models.keyedvectors.Vocab at 0x10c534f10>,\n",
       " u'pricking': <gensim.models.keyedvectors.Vocab at 0x10edee590>,\n",
       " u'Baalim': <gensim.models.keyedvectors.Vocab at 0x10c3c9310>,\n",
       " u'Trueman': <gensim.models.keyedvectors.Vocab at 0x10edee5d0>,\n",
       " u'lots': <gensim.models.keyedvectors.Vocab at 0x10c3c9350>,\n",
       " u'reporter': <gensim.models.keyedvectors.Vocab at 0x10ef37150>,\n",
       " u'rings': <gensim.models.keyedvectors.Vocab at 0x10edee610>,\n",
       " u'solicitude': <gensim.models.keyedvectors.Vocab at 0x10edee650>,\n",
       " u'Purim': <gensim.models.keyedvectors.Vocab at 0x10edee690>,\n",
       " u'loth': <gensim.models.keyedvectors.Vocab at 0x10c3c9390>,\n",
       " u'unalterable': <gensim.models.keyedvectors.Vocab at 0x10c534f90>,\n",
       " u'Cush': <gensim.models.keyedvectors.Vocab at 0x10c534fd0>,\n",
       " u'poyson': <gensim.models.keyedvectors.Vocab at 0x10efa5150>,\n",
       " u'Capernaum': <gensim.models.keyedvectors.Vocab at 0x10c539050>,\n",
       " u'preserve': <gensim.models.keyedvectors.Vocab at 0x10c539090>,\n",
       " u'claws': <gensim.models.keyedvectors.Vocab at 0x10c5390d0>,\n",
       " u'never': <gensim.models.keyedvectors.Vocab at 0x10c5e4e50>,\n",
       " u'extend': <gensim.models.keyedvectors.Vocab at 0x10c3c9410>,\n",
       " u'nature': <gensim.models.keyedvectors.Vocab at 0x10c3c9450>,\n",
       " u'rolled': <gensim.models.keyedvectors.Vocab at 0x10ef42790>,\n",
       " u'ask': <gensim.models.keyedvectors.Vocab at 0x10c5bd6d0>,\n",
       " u'twinkling': <gensim.models.keyedvectors.Vocab at 0x10c539150>,\n",
       " u'extent': <gensim.models.keyedvectors.Vocab at 0x10c3c94d0>,\n",
       " u'defiance': <gensim.models.keyedvectors.Vocab at 0x10edee750>,\n",
       " u'debt': <gensim.models.keyedvectors.Vocab at 0x10edee790>,\n",
       " u'tyranny': <gensim.models.keyedvectors.Vocab at 0x10c3c9550>,\n",
       " u'accident': <gensim.models.keyedvectors.Vocab at 0x10ef42810>,\n",
       " u'cuffs': <gensim.models.keyedvectors.Vocab at 0x10c3fab50>,\n",
       " u'brown': <gensim.models.keyedvectors.Vocab at 0x10efaa150>,\n",
       " u'disdain': <gensim.models.keyedvectors.Vocab at 0x10edee810>,\n",
       " u'corrupted': <gensim.models.keyedvectors.Vocab at 0x10eda1890>,\n",
       " u'country': <gensim.models.keyedvectors.Vocab at 0x10edee850>,\n",
       " u'pits': <gensim.models.keyedvectors.Vocab at 0x10c416190>,\n",
       " u'adventures': <gensim.models.keyedvectors.Vocab at 0x10c5391d0>,\n",
       " u'incense': <gensim.models.keyedvectors.Vocab at 0x10c3c9590>,\n",
       " u'Laura': <gensim.models.keyedvectors.Vocab at 0x10c3c95d0>,\n",
       " u'estates': <gensim.models.keyedvectors.Vocab at 0x10c539210>,\n",
       " u'planned': <gensim.models.keyedvectors.Vocab at 0x10edee8d0>,\n",
       " u'dents': <gensim.models.keyedvectors.Vocab at 0x10c539250>,\n",
       " u'blooming': <gensim.models.keyedvectors.Vocab at 0x10ef94950>,\n",
       " u'argue': <gensim.models.keyedvectors.Vocab at 0x10edee950>,\n",
       " u'adapted': <gensim.models.keyedvectors.Vocab at 0x10c539290>,\n",
       " u'asked': <gensim.models.keyedvectors.Vocab at 0x10ef42950>,\n",
       " u'jack': <gensim.models.keyedvectors.Vocab at 0x10eed91d0>,\n",
       " u'and': <gensim.models.keyedvectors.Vocab at 0x10ef42990>,\n",
       " u'mortified': <gensim.models.keyedvectors.Vocab at 0x10c3c9610>,\n",
       " u'poison': <gensim.models.keyedvectors.Vocab at 0x10eed9550>,\n",
       " u'fringed': <gensim.models.keyedvectors.Vocab at 0x10eff2950>,\n",
       " u'vail': <gensim.models.keyedvectors.Vocab at 0x10c539310>,\n",
       " u'vain': <gensim.models.keyedvectors.Vocab at 0x10c539350>,\n",
       " u'revealeth': <gensim.models.keyedvectors.Vocab at 0x10c3fabd0>,\n",
       " u'active': <gensim.models.keyedvectors.Vocab at 0x10efeccd0>,\n",
       " u'gleaming': <gensim.models.keyedvectors.Vocab at 0x10edee9d0>,\n",
       " u'infants': <gensim.models.keyedvectors.Vocab at 0x10edddad0>,\n",
       " u'framework': <gensim.models.keyedvectors.Vocab at 0x10efb5e90>,\n",
       " u'Ohio': <gensim.models.keyedvectors.Vocab at 0x10c62b110>,\n",
       " u'contentious': <gensim.models.keyedvectors.Vocab at 0x10ee5c810>,\n",
       " u'humming': <gensim.models.keyedvectors.Vocab at 0x10c3c9650>,\n",
       " u'grazing': <gensim.models.keyedvectors.Vocab at 0x10edeea50>,\n",
       " u'Instantly': <gensim.models.keyedvectors.Vocab at 0x10c3c9690>,\n",
       " u'signals': <gensim.models.keyedvectors.Vocab at 0x10ef73a50>,\n",
       " u'shouting': <gensim.models.keyedvectors.Vocab at 0x10c626610>,\n",
       " u'useth': <gensim.models.keyedvectors.Vocab at 0x10c410bd0>,\n",
       " u'remained': <gensim.models.keyedvectors.Vocab at 0x10efb0dd0>,\n",
       " u'fro': <gensim.models.keyedvectors.Vocab at 0x10c3c9710>,\n",
       " u'Amongst': <gensim.models.keyedvectors.Vocab at 0x10c3c9750>,\n",
       " u'.': <gensim.models.keyedvectors.Vocab at 0x10c3c9790>,\n",
       " u'twain': <gensim.models.keyedvectors.Vocab at 0x10ef42a10>,\n",
       " u'much': <gensim.models.keyedvectors.Vocab at 0x10c3c97d0>,\n",
       " u'Gideoni': <gensim.models.keyedvectors.Vocab at 0x10edeeb10>,\n",
       " u'104': <gensim.models.keyedvectors.Vocab at 0x10ee98550>,\n",
       " u'Jezreelite': <gensim.models.keyedvectors.Vocab at 0x10c539450>,\n",
       " u'privilege': <gensim.models.keyedvectors.Vocab at 0x10edeeb50>,\n",
       " u'unleavened': <gensim.models.keyedvectors.Vocab at 0x10c3c9850>,\n",
       " u'fry': <gensim.models.keyedvectors.Vocab at 0x10c3c9890>,\n",
       " u'Flowers': <gensim.models.keyedvectors.Vocab at 0x10c539490>,\n",
       " u'tallest': <gensim.models.keyedvectors.Vocab at 0x10c3c98d0>,\n",
       " u'exactness': <gensim.models.keyedvectors.Vocab at 0x10c5394d0>,\n",
       " u'life': <gensim.models.keyedvectors.Vocab at 0x10c539550>,\n",
       " u'rather': <gensim.models.keyedvectors.Vocab at 0x10c5a2890>,\n",
       " u'cloak': <gensim.models.keyedvectors.Vocab at 0x10ef583d0>,\n",
       " u'spit': <gensim.models.keyedvectors.Vocab at 0x10c3c9910>,\n",
       " u'Mothers': <gensim.models.keyedvectors.Vocab at 0x10c539590>,\n",
       " u'Foole': <gensim.models.keyedvectors.Vocab at 0x10eef5fd0>,\n",
       " u'verdure': <gensim.models.keyedvectors.Vocab at 0x10ed85f50>,\n",
       " u'onyx': <gensim.models.keyedvectors.Vocab at 0x10edeeb90>,\n",
       " u'punctually': <gensim.models.keyedvectors.Vocab at 0x10ee5c850>,\n",
       " u'athwart': <gensim.models.keyedvectors.Vocab at 0x10ee25bd0>,\n",
       " u'circumcision': <gensim.models.keyedvectors.Vocab at 0x10ec421d0>,\n",
       " u'substance': <gensim.models.keyedvectors.Vocab at 0x10c529e50>,\n",
       " u'doubts': <gensim.models.keyedvectors.Vocab at 0x10c3c9950>,\n",
       " u'worked': <gensim.models.keyedvectors.Vocab at 0x10edeec90>,\n",
       " u'doth': <gensim.models.keyedvectors.Vocab at 0x10edeecd0>,\n",
       " u'erst': <gensim.models.keyedvectors.Vocab at 0x10c539650>,\n",
       " u'diverted': <gensim.models.keyedvectors.Vocab at 0x10c539690>,\n",
       " u'commerce': <gensim.models.keyedvectors.Vocab at 0x10ef42ad0>,\n",
       " u'Elisha': <gensim.models.keyedvectors.Vocab at 0x10ee25b50>,\n",
       " u'contemplated': <gensim.models.keyedvectors.Vocab at 0x10edeed10>,\n",
       " u'Jael': <gensim.models.keyedvectors.Vocab at 0x10ee72cd0>,\n",
       " u'teraphim': <gensim.models.keyedvectors.Vocab at 0x10c3c99d0>,\n",
       " u'Beware': <gensim.models.keyedvectors.Vocab at 0x10c3c9a10>,\n",
       " u'contingencies': <gensim.models.keyedvectors.Vocab at 0x10c3c9a50>,\n",
       " u'employ': <gensim.models.keyedvectors.Vocab at 0x10c3c9a90>,\n",
       " u'Heauen': <gensim.models.keyedvectors.Vocab at 0x10c3c9ad0>,\n",
       " u'Beersheba': <gensim.models.keyedvectors.Vocab at 0x10edeed50>,\n",
       " u'mates': <gensim.models.keyedvectors.Vocab at 0x10eda6a50>,\n",
       " u'Campbell': <gensim.models.keyedvectors.Vocab at 0x10edeed90>,\n",
       " u'wonted': <gensim.models.keyedvectors.Vocab at 0x10edeedd0>,\n",
       " u'prostrate': <gensim.models.keyedvectors.Vocab at 0x10c3c9b10>,\n",
       " u'skirts': <gensim.models.keyedvectors.Vocab at 0x10c5396d0>,\n",
       " u'remembering': <gensim.models.keyedvectors.Vocab at 0x10ef42b10>,\n",
       " u'silken': <gensim.models.keyedvectors.Vocab at 0x10edeee50>,\n",
       " u'Both': <gensim.models.keyedvectors.Vocab at 0x10ee1f690>,\n",
       " u'equator': <gensim.models.keyedvectors.Vocab at 0x10ef42b90>,\n",
       " u'Innumerable': <gensim.models.keyedvectors.Vocab at 0x10c3c9b50>,\n",
       " u'obeying': <gensim.models.keyedvectors.Vocab at 0x10c539710>,\n",
       " u'player': <gensim.models.keyedvectors.Vocab at 0x10ef42c10>,\n",
       " u'Potomac': <gensim.models.keyedvectors.Vocab at 0x10c41b0d0>,\n",
       " u'eighteen': <gensim.models.keyedvectors.Vocab at 0x10c3c9b90>,\n",
       " u'anticipating': <gensim.models.keyedvectors.Vocab at 0x10edeee90>,\n",
       " u'Sword': <gensim.models.keyedvectors.Vocab at 0x10c3c9c10>,\n",
       " u'Obededom': <gensim.models.keyedvectors.Vocab at 0x10edeeed0>,\n",
       " u'bounteous': <gensim.models.keyedvectors.Vocab at 0x10ee40290>,\n",
       " u'trusted': <gensim.models.keyedvectors.Vocab at 0x10c539750>,\n",
       " u'languisheth': <gensim.models.keyedvectors.Vocab at 0x10ef42c50>,\n",
       " u'memorial': <gensim.models.keyedvectors.Vocab at 0x10c3c9c50>,\n",
       " u'Main': <gensim.models.keyedvectors.Vocab at 0x10ee5c910>,\n",
       " u'severity': <gensim.models.keyedvectors.Vocab at 0x10edeef10>,\n",
       " u'credit': <gensim.models.keyedvectors.Vocab at 0x10ee98650>,\n",
       " u'things': <gensim.models.keyedvectors.Vocab at 0x10ef42c90>,\n",
       " u'reflectively': <gensim.models.keyedvectors.Vocab at 0x10ef42cd0>,\n",
       " u'woollen': <gensim.models.keyedvectors.Vocab at 0x10edeef90>,\n",
       " u'shipwrecked': <gensim.models.keyedvectors.Vocab at 0x10ef42d50>,\n",
       " u'rebellion': <gensim.models.keyedvectors.Vocab at 0x10ef42d90>,\n",
       " u'greefe': <gensim.models.keyedvectors.Vocab at 0x10ef73b90>,\n",
       " u'swarthy': <gensim.models.keyedvectors.Vocab at 0x10c539790>,\n",
       " u'split': <gensim.models.keyedvectors.Vocab at 0x10c3c9cd0>,\n",
       " u'babies': <gensim.models.keyedvectors.Vocab at 0x10c5397d0>,\n",
       " u'big': <gensim.models.keyedvectors.Vocab at 0x10f02e850>,\n",
       " u'principals': <gensim.models.keyedvectors.Vocab at 0x10c3c9d10>,\n",
       " u'Enoch': <gensim.models.keyedvectors.Vocab at 0x10f097590>,\n",
       " u'emphatic': <gensim.models.keyedvectors.Vocab at 0x10edf3050>,\n",
       " u'eBooks': <gensim.models.keyedvectors.Vocab at 0x10ef42e10>,\n",
       " u'exertion': <gensim.models.keyedvectors.Vocab at 0x10ef42e50>,\n",
       " u'fairly': <gensim.models.keyedvectors.Vocab at 0x10c539810>,\n",
       " u'thereof': <gensim.models.keyedvectors.Vocab at 0x10ee9ea90>,\n",
       " u'boiled': <gensim.models.keyedvectors.Vocab at 0x10c3c9d50>,\n",
       " u'marches': <gensim.models.keyedvectors.Vocab at 0x10c3c9d90>,\n",
       " u'acting': <gensim.models.keyedvectors.Vocab at 0x10f023850>,\n",
       " u'tops': <gensim.models.keyedvectors.Vocab at 0x10c539850>,\n",
       " u'walkest': <gensim.models.keyedvectors.Vocab at 0x10c539890>,\n",
       " u'Zebedee': <gensim.models.keyedvectors.Vocab at 0x10f02e8d0>,\n",
       " u'seamen': <gensim.models.keyedvectors.Vocab at 0x10c50d650>,\n",
       " u'Hovering': <gensim.models.keyedvectors.Vocab at 0x10edf3110>,\n",
       " u'saide': <gensim.models.keyedvectors.Vocab at 0x10c5398d0>,\n",
       " u'supper': <gensim.models.keyedvectors.Vocab at 0x10c3c9dd0>,\n",
       " u'Persia': <gensim.models.keyedvectors.Vocab at 0x10c3c9e10>,\n",
       " u'pioneers': <gensim.models.keyedvectors.Vocab at 0x10c539910>,\n",
       " u'haggard': <gensim.models.keyedvectors.Vocab at 0x10edf3150>,\n",
       " u'tune': <gensim.models.keyedvectors.Vocab at 0x10ef42ed0>,\n",
       " u'intrusion': <gensim.models.keyedvectors.Vocab at 0x10c539950>,\n",
       " u'peremptory': <gensim.models.keyedvectors.Vocab at 0x10c41bfd0>,\n",
       " u'fatal': <gensim.models.keyedvectors.Vocab at 0x10f034ad0>,\n",
       " u'stretcheth': <gensim.models.keyedvectors.Vocab at 0x10eff2850>,\n",
       " u'echoed': <gensim.models.keyedvectors.Vocab at 0x10ef42f10>,\n",
       " u'dynamiter': <gensim.models.keyedvectors.Vocab at 0x10edd8790>,\n",
       " u'stillness': <gensim.models.keyedvectors.Vocab at 0x10c4213d0>,\n",
       " u'coldness': <gensim.models.keyedvectors.Vocab at 0x10c539990>,\n",
       " u'Cease': <gensim.models.keyedvectors.Vocab at 0x10c5399d0>,\n",
       " u'Table': <gensim.models.keyedvectors.Vocab at 0x10c3c9e90>,\n",
       " u'milliner': <gensim.models.keyedvectors.Vocab at 0x10ee464d0>,\n",
       " u'Perizzites': <gensim.models.keyedvectors.Vocab at 0x10edf31d0>,\n",
       " u'fittest': <gensim.models.keyedvectors.Vocab at 0x10c539a10>,\n",
       " u'benignity': <gensim.models.keyedvectors.Vocab at 0x10c3c9ed0>,\n",
       " u'opinions': <gensim.models.keyedvectors.Vocab at 0x10c539a50>,\n",
       " u'outlived': <gensim.models.keyedvectors.Vocab at 0x10c3c9f10>,\n",
       " u'bellow': <gensim.models.keyedvectors.Vocab at 0x10c3c9f50>,\n",
       " u'Russell': <gensim.models.keyedvectors.Vocab at 0x10c539a90>,\n",
       " u'sleeps': <gensim.models.keyedvectors.Vocab at 0x10edf3290>,\n",
       " u'THAT': <gensim.models.keyedvectors.Vocab at 0x10edf32d0>,\n",
       " u'masons': <gensim.models.keyedvectors.Vocab at 0x10c539ad0>,\n",
       " u'sleepy': <gensim.models.keyedvectors.Vocab at 0x10edf3350>,\n",
       " u'forsaken': <gensim.models.keyedvectors.Vocab at 0x10c539b10>,\n",
       " u'sleepe': <gensim.models.keyedvectors.Vocab at 0x10c421950>,\n",
       " u'disguise': <gensim.models.keyedvectors.Vocab at 0x10c539b50>,\n",
       " u'maketh': <gensim.models.keyedvectors.Vocab at 0x10c3c9fd0>,\n",
       " u'groweth': <gensim.models.keyedvectors.Vocab at 0x10c539bd0>,\n",
       " u'exclaiming': <gensim.models.keyedvectors.Vocab at 0x10ef47090>,\n",
       " u'plight': <gensim.models.keyedvectors.Vocab at 0x10c539c10>,\n",
       " u'divination': <gensim.models.keyedvectors.Vocab at 0x10edf33d0>,\n",
       " u'succeeding': <gensim.models.keyedvectors.Vocab at 0x10ef47110>,\n",
       " u'Happy': <gensim.models.keyedvectors.Vocab at 0x10c3ce050>,\n",
       " u'Eternity': <gensim.models.keyedvectors.Vocab at 0x10c3ce090>,\n",
       " u'orgies': <gensim.models.keyedvectors.Vocab at 0x10f04fb90>,\n",
       " u'spectacles': <gensim.models.keyedvectors.Vocab at 0x10edf3450>,\n",
       " u'classification': <gensim.models.keyedvectors.Vocab at 0x10ef373d0>,\n",
       " u'Offer': <gensim.models.keyedvectors.Vocab at 0x10edf3490>,\n",
       " u'ease': <gensim.models.keyedvectors.Vocab at 0x10ef47190>,\n",
       " u'had': <gensim.models.keyedvectors.Vocab at 0x10c3ce110>,\n",
       " u'emphasis': <gensim.models.keyedvectors.Vocab at 0x10eda6b90>,\n",
       " u'Methuselah': <gensim.models.keyedvectors.Vocab at 0x10ee4bd90>,\n",
       " u'hay': <gensim.models.keyedvectors.Vocab at 0x10c3ce150>,\n",
       " u'disparity': <gensim.models.keyedvectors.Vocab at 0x10edf34d0>,\n",
       " u'Nahshon': <gensim.models.keyedvectors.Vocab at 0x10c3ce190>,\n",
       " u'beloved': <gensim.models.keyedvectors.Vocab at 0x10c3ce1d0>,\n",
       " u'prison': <gensim.models.keyedvectors.Vocab at 0x10ef47210>,\n",
       " u'hap': <gensim.models.keyedvectors.Vocab at 0x10c3ce210>,\n",
       " u'shoemaker': <gensim.models.keyedvectors.Vocab at 0x10ef47250>,\n",
       " u'has': <gensim.models.keyedvectors.Vocab at 0x10c3ce250>,\n",
       " u'espoused': <gensim.models.keyedvectors.Vocab at 0x10c426310>,\n",
       " u'hav': <gensim.models.keyedvectors.Vocab at 0x10c3ce2d0>,\n",
       " u'abashed': <gensim.models.keyedvectors.Vocab at 0x10c539cd0>,\n",
       " u'elevation': <gensim.models.keyedvectors.Vocab at 0x10edf3590>,\n",
       " u'casually': <gensim.models.keyedvectors.Vocab at 0x10c539d10>,\n",
       " u'confidentially': <gensim.models.keyedvectors.Vocab at 0x10eda69d0>,\n",
       " u'elders': <gensim.models.keyedvectors.Vocab at 0x10c3ce310>,\n",
       " u'profiteth': <gensim.models.keyedvectors.Vocab at 0x10c426450>,\n",
       " u'harpooned': <gensim.models.keyedvectors.Vocab at 0x10f0a7310>,\n",
       " u'disagreement': <gensim.models.keyedvectors.Vocab at 0x10ef472d0>,\n",
       " u'possible': <gensim.models.keyedvectors.Vocab at 0x10c539d50>,\n",
       " u'firmer': <gensim.models.keyedvectors.Vocab at 0x10c539d90>,\n",
       " u'possibly': <gensim.models.keyedvectors.Vocab at 0x10c539dd0>,\n",
       " u'chuse': <gensim.models.keyedvectors.Vocab at 0x10edf3610>,\n",
       " u'birth': <gensim.models.keyedvectors.Vocab at 0x10c539e10>,\n",
       " u'Missouri': <gensim.models.keyedvectors.Vocab at 0x10c539e50>,\n",
       " u'shadow': <gensim.models.keyedvectors.Vocab at 0x10c3ce350>,\n",
       " u'unique': <gensim.models.keyedvectors.Vocab at 0x10c539e90>,\n",
       " u'tolerable': <gensim.models.keyedvectors.Vocab at 0x10eeea090>,\n",
       " u'bushy': <gensim.models.keyedvectors.Vocab at 0x10ef47310>,\n",
       " u'desire': <gensim.models.keyedvectors.Vocab at 0x10edf3650>,\n",
       " u'Lords': <gensim.models.keyedvectors.Vocab at 0x10c539ed0>,\n",
       " u'tapering': <gensim.models.keyedvectors.Vocab at 0x10c539f10>,\n",
       " u'seek': <gensim.models.keyedvectors.Vocab at 0x10ef73710>,\n",
       " u'seaside': <gensim.models.keyedvectors.Vocab at 0x10c539f50>,\n",
       " u'Pendragon': <gensim.models.keyedvectors.Vocab at 0x10edf3690>,\n",
       " u'Claudio': <gensim.models.keyedvectors.Vocab at 0x10edf36d0>,\n",
       " u'remind': <gensim.models.keyedvectors.Vocab at 0x10ef47410>,\n",
       " u'pavement': <gensim.models.keyedvectors.Vocab at 0x10c539f90>,\n",
       " u'ninety': <gensim.models.keyedvectors.Vocab at 0x10ee98850>,\n",
       " u'steps': <gensim.models.keyedvectors.Vocab at 0x10c539fd0>,\n",
       " u'OF': <gensim.models.keyedvectors.Vocab at 0x10c3faf10>,\n",
       " u'moral': <gensim.models.keyedvectors.Vocab at 0x10efecf90>,\n",
       " u'effusion': <gensim.models.keyedvectors.Vocab at 0x10c3ce390>,\n",
       " u'attorney': <gensim.models.keyedvectors.Vocab at 0x10c3ce3d0>,\n",
       " u'right': <gensim.models.keyedvectors.Vocab at 0x10ef47490>,\n",
       " u'Gaal': <gensim.models.keyedvectors.Vocab at 0x10ee88950>,\n",
       " u'drowned': <gensim.models.keyedvectors.Vocab at 0x10c5e90d0>,\n",
       " u'crowd': <gensim.models.keyedvectors.Vocab at 0x10c3ce410>,\n",
       " u'people': <gensim.models.keyedvectors.Vocab at 0x10c53f050>,\n",
       " u'creed': <gensim.models.keyedvectors.Vocab at 0x10edf3710>,\n",
       " u'easy': <gensim.models.keyedvectors.Vocab at 0x10ef471d0>,\n",
       " u'crown': <gensim.models.keyedvectors.Vocab at 0x10c3ce450>,\n",
       " u'crows': <gensim.models.keyedvectors.Vocab at 0x10c42c3d0>,\n",
       " u'sure': <gensim.models.keyedvectors.Vocab at 0x10c4ece50>,\n",
       " u'Whatever': <gensim.models.keyedvectors.Vocab at 0x10ec42410>,\n",
       " u'Between': <gensim.models.keyedvectors.Vocab at 0x10c3ce4d0>,\n",
       " u'prick': <gensim.models.keyedvectors.Vocab at 0x10ee5c9d0>,\n",
       " u'animate': <gensim.models.keyedvectors.Vocab at 0x10ef47510>,\n",
       " u'creep': <gensim.models.keyedvectors.Vocab at 0x10edf3750>,\n",
       " u'enemies': <gensim.models.keyedvectors.Vocab at 0x10edf3790>,\n",
       " u'Asiatic': <gensim.models.keyedvectors.Vocab at 0x10c3ce510>,\n",
       " u'perchance': <gensim.models.keyedvectors.Vocab at 0x10c3ce550>,\n",
       " u'for': <gensim.models.keyedvectors.Vocab at 0x10c53f150>,\n",
       " u'bottom': <gensim.models.keyedvectors.Vocab at 0x10c3ce590>,\n",
       " u'inhuman': <gensim.models.keyedvectors.Vocab at 0x10c3ce5d0>,\n",
       " u'fox': <gensim.models.keyedvectors.Vocab at 0x10c53f190>,\n",
       " u'plucked': <gensim.models.keyedvectors.Vocab at 0x10c3ce610>,\n",
       " u'witty': <gensim.models.keyedvectors.Vocab at 0x10ef47590>,\n",
       " u'foe': <gensim.models.keyedvectors.Vocab at 0x10c53f1d0>,\n",
       " u'fog': <gensim.models.keyedvectors.Vocab at 0x10c53f210>,\n",
       " u'betimes': <gensim.models.keyedvectors.Vocab at 0x10ef475d0>,\n",
       " u'summoned': <gensim.models.keyedvectors.Vocab at 0x10ef47610>,\n",
       " u'Decius': <gensim.models.keyedvectors.Vocab at 0x10edf3810>,\n",
       " u'serpents': <gensim.models.keyedvectors.Vocab at 0x10c53f250>,\n",
       " u'surging': <gensim.models.keyedvectors.Vocab at 0x10ec42450>,\n",
       " u'Macduffe': <gensim.models.keyedvectors.Vocab at 0x10c3ce650>,\n",
       " u'defileth': <gensim.models.keyedvectors.Vocab at 0x10c53f290>,\n",
       " u'prophesieth': <gensim.models.keyedvectors.Vocab at 0x10c53f2d0>,\n",
       " u'energy': <gensim.models.keyedvectors.Vocab at 0x10f07b810>,\n",
       " u'post': <gensim.models.keyedvectors.Vocab at 0x10ee4bdd0>,\n",
       " u'picking': <gensim.models.keyedvectors.Vocab at 0x10c5f4190>,\n",
       " u'terraces': <gensim.models.keyedvectors.Vocab at 0x10ef476d0>,\n",
       " u'Thine': <gensim.models.keyedvectors.Vocab at 0x10c53f310>,\n",
       " u'shifting': <gensim.models.keyedvectors.Vocab at 0x10c53f350>,\n",
       " u'losing': <gensim.models.keyedvectors.Vocab at 0x10edf38d0>,\n",
       " u'bowing': <gensim.models.keyedvectors.Vocab at 0x10ef47750>,\n",
       " u'Think': <gensim.models.keyedvectors.Vocab at 0x10c53f390>,\n",
       " u'shaken': <gensim.models.keyedvectors.Vocab at 0x10edf3910>,\n",
       " u'First': <gensim.models.keyedvectors.Vocab at 0x10ef47790>,\n",
       " u'Suckling': <gensim.models.keyedvectors.Vocab at 0x10c3ce690>,\n",
       " u'Zerubbabel': <gensim.models.keyedvectors.Vocab at 0x10c4312d0>,\n",
       " u'benches': <gensim.models.keyedvectors.Vocab at 0x10c3ce710>,\n",
       " u'55': <gensim.models.keyedvectors.Vocab at 0x10eeea210>,\n",
       " u'gleaning': <gensim.models.keyedvectors.Vocab at 0x10edf3950>,\n",
       " u'dollars': <gensim.models.keyedvectors.Vocab at 0x10c53f3d0>,\n",
       " u'citizens': <gensim.models.keyedvectors.Vocab at 0x10c53f410>,\n",
       " u'o': <gensim.models.keyedvectors.Vocab at 0x10ee56810>,\n",
       " u'despair': <gensim.models.keyedvectors.Vocab at 0x10c53f450>,\n",
       " u'done': <gensim.models.keyedvectors.Vocab at 0x10298c350>,\n",
       " u'Shake': <gensim.models.keyedvectors.Vocab at 0x10c53f490>,\n",
       " u'lacked': <gensim.models.keyedvectors.Vocab at 0x10ef47890>,\n",
       " u'Jethro': <gensim.models.keyedvectors.Vocab at 0x10edf3990>,\n",
       " u'meddle': <gensim.models.keyedvectors.Vocab at 0x10ef47910>,\n",
       " u'raised': <gensim.models.keyedvectors.Vocab at 0x10edf39d0>,\n",
       " u'sob': <gensim.models.keyedvectors.Vocab at 0x10c431a10>,\n",
       " u'statements': <gensim.models.keyedvectors.Vocab at 0x10ef479d0>,\n",
       " u'Knowledge': <gensim.models.keyedvectors.Vocab at 0x10c431ad0>,\n",
       " u'Wisedome': <gensim.models.keyedvectors.Vocab at 0x10ee1f510>,\n",
       " u'Greeks': <gensim.models.keyedvectors.Vocab at 0x10edf3a10>,\n",
       " u'Amoz': <gensim.models.keyedvectors.Vocab at 0x10f01e6d0>,\n",
       " u'nought': <gensim.models.keyedvectors.Vocab at 0x10c53f510>,\n",
       " u'Blacky': <gensim.models.keyedvectors.Vocab at 0x10edf3a50>,\n",
       " u'brutes': <gensim.models.keyedvectors.Vocab at 0x10c53f550>,\n",
       " u'son': <gensim.models.keyedvectors.Vocab at 0x10edf3a90>,\n",
       " u'thankful': <gensim.models.keyedvectors.Vocab at 0x10c431d90>,\n",
       " u'beings': <gensim.models.keyedvectors.Vocab at 0x10c431e50>,\n",
       " u'raises': <gensim.models.keyedvectors.Vocab at 0x10c431f10>,\n",
       " u'sow': <gensim.models.keyedvectors.Vocab at 0x10edf3b50>,\n",
       " u'wrap': <gensim.models.keyedvectors.Vocab at 0x10edf3b90>,\n",
       " u'gardening': <gensim.models.keyedvectors.Vocab at 0x10ec424d0>,\n",
       " u'shoots': <gensim.models.keyedvectors.Vocab at 0x10c3ce7d0>,\n",
       " u'defendants': <gensim.models.keyedvectors.Vocab at 0x10c53f590>,\n",
       " u'bows': <gensim.models.keyedvectors.Vocab at 0x10f076610>,\n",
       " u'journeying': <gensim.models.keyedvectors.Vocab at 0x10ef47a90>,\n",
       " u'Silent': <gensim.models.keyedvectors.Vocab at 0x10ee1f910>,\n",
       " u'piazza': <gensim.models.keyedvectors.Vocab at 0x10ef9fe50>,\n",
       " u'despised': <gensim.models.keyedvectors.Vocab at 0x10c3ce810>,\n",
       " u'waits': <gensim.models.keyedvectors.Vocab at 0x10edf3bd0>,\n",
       " u'suffice': <gensim.models.keyedvectors.Vocab at 0x10c3ce850>,\n",
       " u'constantly': <gensim.models.keyedvectors.Vocab at 0x10edf3c50>,\n",
       " u'Hang': <gensim.models.keyedvectors.Vocab at 0x10ef47ad0>,\n",
       " u'tame': <gensim.models.keyedvectors.Vocab at 0x10c3ce890>,\n",
       " u'avail': <gensim.models.keyedvectors.Vocab at 0x10c53f5d0>,\n",
       " u'width': <gensim.models.keyedvectors.Vocab at 0x10c605bd0>,\n",
       " u'grasping': <gensim.models.keyedvectors.Vocab at 0x10c3ce8d0>,\n",
       " u'greatness': <gensim.models.keyedvectors.Vocab at 0x10c3ce910>,\n",
       " u'avast': <gensim.models.keyedvectors.Vocab at 0x10f081450>,\n",
       " u'untie': <gensim.models.keyedvectors.Vocab at 0x10ef375d0>,\n",
       " u'SONGS': <gensim.models.keyedvectors.Vocab at 0x10eda6d50>,\n",
       " u'halls': <gensim.models.keyedvectors.Vocab at 0x10c53f690>,\n",
       " u'happy': <gensim.models.keyedvectors.Vocab at 0x10c53f6d0>,\n",
       " u'perfumes': <gensim.models.keyedvectors.Vocab at 0x10c3ce950>,\n",
       " u'waistcoat': <gensim.models.keyedvectors.Vocab at 0x10c3ce990>,\n",
       " u'offer': <gensim.models.keyedvectors.Vocab at 0x10ef47bd0>,\n",
       " u'fascination': <gensim.models.keyedvectors.Vocab at 0x10c53f710>,\n",
       " u'forming': <gensim.models.keyedvectors.Vocab at 0x10ef47c10>,\n",
       " u'tigers': <gensim.models.keyedvectors.Vocab at 0x10c53f750>,\n",
       " u'universes': <gensim.models.keyedvectors.Vocab at 0x10f07bad0>,\n",
       " u'hemisphere': <gensim.models.keyedvectors.Vocab at 0x10c53f790>,\n",
       " u'Age': <gensim.models.keyedvectors.Vocab at 0x10f065ed0>,\n",
       " u'perfumed': <gensim.models.keyedvectors.Vocab at 0x10c3ce9d0>,\n",
       " u'wentest': <gensim.models.keyedvectors.Vocab at 0x10ef47c90>,\n",
       " u'squalid': <gensim.models.keyedvectors.Vocab at 0x10ef47cd0>,\n",
       " u'principles': <gensim.models.keyedvectors.Vocab at 0x10eff2b90>,\n",
       " u'IT': <gensim.models.keyedvectors.Vocab at 0x10f0767d0>,\n",
       " u'Seeing': <gensim.models.keyedvectors.Vocab at 0x10ef47d10>,\n",
       " u'congratulations': <gensim.models.keyedvectors.Vocab at 0x10c3cea10>,\n",
       " u'humbled': <gensim.models.keyedvectors.Vocab at 0x10c3cea50>,\n",
       " u'genealogy': <gensim.models.keyedvectors.Vocab at 0x10edf3cd0>,\n",
       " u'rippling': <gensim.models.keyedvectors.Vocab at 0x10c3cea90>,\n",
       " u'extremity': <gensim.models.keyedvectors.Vocab at 0x10edf3d10>,\n",
       " u'inside': <gensim.models.keyedvectors.Vocab at 0x10edf3d50>,\n",
       " u'trash': <gensim.models.keyedvectors.Vocab at 0x10f07bbd0>,\n",
       " u'devices': <gensim.models.keyedvectors.Vocab at 0x10edf3d90>,\n",
       " u'tell': <gensim.models.keyedvectors.Vocab at 0x10c5e9210>,\n",
       " u'WILLIAM': <gensim.models.keyedvectors.Vocab at 0x10edf3dd0>,\n",
       " u'nicest': <gensim.models.keyedvectors.Vocab at 0x10c3cead0>,\n",
       " u'lays': <gensim.models.keyedvectors.Vocab at 0x10c53f7d0>,\n",
       " u'smashed': <gensim.models.keyedvectors.Vocab at 0x10c3ceb10>,\n",
       " u'mighty': <gensim.models.keyedvectors.Vocab at 0x10c53f810>,\n",
       " u'dues': <gensim.models.keyedvectors.Vocab at 0x10c3ceb90>,\n",
       " u'passenger': <gensim.models.keyedvectors.Vocab at 0x10c3cebd0>,\n",
       " u'proud': <gensim.models.keyedvectors.Vocab at 0x10c53f850>,\n",
       " u'disgrace': <gensim.models.keyedvectors.Vocab at 0x10c3cec10>,\n",
       " u'Sit': <gensim.models.keyedvectors.Vocab at 0x10ef47d90>,\n",
       " ...}"
      ]
     },
     "execution_count": 24,
     "metadata": {},
     "output_type": "execute_result"
    }
   ],
   "source": [
    "model.wv.vocab"
   ]
  },
  {
   "cell_type": "code",
   "execution_count": 25,
   "metadata": {
    "collapsed": false
   },
   "outputs": [
    {
     "data": {
      "text/plain": [
       "17011"
      ]
     },
     "execution_count": 25,
     "metadata": {},
     "output_type": "execute_result"
    }
   ],
   "source": [
    "len(model.wv.vocab)"
   ]
  },
  {
   "cell_type": "code",
   "execution_count": 26,
   "metadata": {
    "collapsed": false
   },
   "outputs": [
    {
     "name": "stderr",
     "output_type": "stream",
     "text": [
      "/Library/Frameworks/Python.framework/Versions/2.7/lib/python2.7/site-packages/ipykernel/__main__.py:1: DeprecationWarning: Call to deprecated `__getitem__` (Method will be removed in 4.0.0, use self.wv.__getitem__() instead).\n",
      "  if __name__ == '__main__':\n"
     ]
    }
   ],
   "source": [
    "X = model[model.wv.vocab]"
   ]
  },
  {
   "cell_type": "code",
   "execution_count": 27,
   "metadata": {
    "collapsed": true
   },
   "outputs": [],
   "source": [
    "tsne = TSNE(n_components=2, n_iter=1000) # 200 is minimum iter; default is 1000"
   ]
  },
  {
   "cell_type": "code",
   "execution_count": 28,
   "metadata": {
    "collapsed": true
   },
   "outputs": [],
   "source": [
    "X_2d = tsne.fit_transform(X)"
   ]
  },
  {
   "cell_type": "code",
   "execution_count": 29,
   "metadata": {
    "collapsed": false
   },
   "outputs": [
    {
     "data": {
      "text/plain": [
       "array([[ 1.9839099 , -0.4439315 ],\n",
       "       [-3.45972208,  0.25792175],\n",
       "       [-1.47373042, -1.77787965],\n",
       "       [ 1.08239664,  4.91757874],\n",
       "       [ 2.35435429,  5.18763845]])"
      ]
     },
     "execution_count": 29,
     "metadata": {},
     "output_type": "execute_result"
    }
   ],
   "source": [
    "X_2d[0:5]"
   ]
  },
  {
   "cell_type": "code",
   "execution_count": 30,
   "metadata": {
    "collapsed": true
   },
   "outputs": [],
   "source": [
    "# create DataFrame for storing results and plotting\n",
    "coords_df = pd.DataFrame(X_2d, columns=['x','y'])\n",
    "coords_df['token'] = model.wv.vocab.keys()"
   ]
  },
  {
   "cell_type": "code",
   "execution_count": 31,
   "metadata": {
    "collapsed": false
   },
   "outputs": [
    {
     "data": {
      "text/html": [
       "<div>\n",
       "<table border=\"1\" class=\"dataframe\">\n",
       "  <thead>\n",
       "    <tr style=\"text-align: right;\">\n",
       "      <th></th>\n",
       "      <th>x</th>\n",
       "      <th>y</th>\n",
       "      <th>token</th>\n",
       "    </tr>\n",
       "  </thead>\n",
       "  <tbody>\n",
       "    <tr>\n",
       "      <th>0</th>\n",
       "      <td>1.983910</td>\n",
       "      <td>-0.443932</td>\n",
       "      <td>realms</td>\n",
       "    </tr>\n",
       "    <tr>\n",
       "      <th>1</th>\n",
       "      <td>-3.459722</td>\n",
       "      <td>0.257922</td>\n",
       "      <td>Doeg</td>\n",
       "    </tr>\n",
       "    <tr>\n",
       "      <th>2</th>\n",
       "      <td>-1.473730</td>\n",
       "      <td>-1.777880</td>\n",
       "      <td>both</td>\n",
       "    </tr>\n",
       "    <tr>\n",
       "      <th>3</th>\n",
       "      <td>1.082397</td>\n",
       "      <td>4.917579</td>\n",
       "      <td>yellow</td>\n",
       "    </tr>\n",
       "    <tr>\n",
       "      <th>4</th>\n",
       "      <td>2.354354</td>\n",
       "      <td>5.187638</td>\n",
       "      <td>four</td>\n",
       "    </tr>\n",
       "  </tbody>\n",
       "</table>\n",
       "</div>"
      ],
      "text/plain": [
       "          x         y   token\n",
       "0  1.983910 -0.443932  realms\n",
       "1 -3.459722  0.257922    Doeg\n",
       "2 -1.473730 -1.777880    both\n",
       "3  1.082397  4.917579  yellow\n",
       "4  2.354354  5.187638    four"
      ]
     },
     "execution_count": 31,
     "metadata": {},
     "output_type": "execute_result"
    }
   ],
   "source": [
    "coords_df.head()"
   ]
  },
  {
   "cell_type": "markdown",
   "metadata": {},
   "source": [
    "Visualization"
   ]
  },
  {
   "cell_type": "code",
   "execution_count": null,
   "metadata": {
    "collapsed": true
   },
   "outputs": [],
   "source": [
    "coords_df = pd.read_csv('raw_gutenberg_tsne.csv')"
   ]
  },
  {
   "cell_type": "code",
   "execution_count": null,
   "metadata": {
    "collapsed": true
   },
   "outputs": [],
   "source": [
    "_ = coords_df.plot.scatter('x', 'y', figsize=(12,12), marker='.', s=10, alpha=0.2)"
   ]
  },
  {
   "cell_type": "code",
   "execution_count": null,
   "metadata": {
    "collapsed": true
   },
   "outputs": [],
   "source": [
    "output_notebook() # output bokeh plots inline in notebook"
   ]
  },
  {
   "cell_type": "markdown",
   "metadata": {},
   "source": [
    "Bokeh"
   ]
  },
  {
   "cell_type": "code",
   "execution_count": null,
   "metadata": {
    "collapsed": true
   },
   "outputs": [],
   "source": [
    "\n",
    "subset_df = coords_df.sample(n=5000)"
   ]
  },
  {
   "cell_type": "code",
   "execution_count": null,
   "metadata": {
    "collapsed": true
   },
   "outputs": [],
   "source": [
    "p = figure(plot_width=800, plot_height=800)\n",
    "_ = p.text(x=subset_df.x, y=subset_df.y, text=subset_df.token)"
   ]
  },
  {
   "cell_type": "code",
   "execution_count": null,
   "metadata": {
    "collapsed": true
   },
   "outputs": [],
   "source": [
    "show(p)"
   ]
  }
 ],
 "metadata": {
  "kernelspec": {
   "display_name": "Python 2",
   "language": "python",
   "name": "python2"
  },
  "language_info": {
   "codemirror_mode": {
    "name": "ipython",
    "version": 2
   },
   "file_extension": ".py",
   "mimetype": "text/x-python",
   "name": "python",
   "nbconvert_exporter": "python",
   "pygments_lexer": "ipython2",
   "version": "2.7.10"
  }
 },
 "nbformat": 4,
 "nbformat_minor": 0
}
