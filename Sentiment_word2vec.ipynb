{
 "cells": [
  {
   "cell_type": "code",
   "execution_count": 1,
   "metadata": {
    "collapsed": false,
    "deletable": true,
    "editable": true,
    "scrolled": true
   },
   "outputs": [
    {
     "name": "stdout",
     "output_type": "stream",
     "text": [
      "Read 25000 labeled train reviews, 25000 labeled test reviews, and 50000 unlabeled reviews\n",
      "\n"
     ]
    }
   ],
   "source": [
    "import pandas as pd\n",
    "\n",
    "# Read data from files \n",
    "train = pd.read_csv( \"labeledTrainData.tsv\", header=0, delimiter=\"\\t\", quoting=3 )\n",
    "test = pd.read_csv( \"testData.tsv\", header=0, delimiter=\"\\t\", quoting=3 )\n",
    "unlabeled_train = pd.read_csv( \"unlabeledTrainData.tsv\", header=0, delimiter=\"\\t\", quoting=3 )\n",
    "\n",
    "# Verify the number of reviews that were read (100,000 in total)\n",
    "print \"Read %d labeled train reviews, %d labeled test reviews, \" \\\n",
    " \"and %d unlabeled reviews\\n\" % (train[\"review\"].size,  \n",
    " test[\"review\"].size, unlabeled_train[\"review\"].size )"
   ]
  },
  {
   "cell_type": "code",
   "execution_count": 2,
   "metadata": {
    "collapsed": true,
    "deletable": true,
    "editable": true
   },
   "outputs": [],
   "source": [
    "# Import various modules for string cleaning\n",
    "from bs4 import BeautifulSoup\n",
    "import re\n",
    "from nltk.corpus import stopwords\n",
    "\n",
    "def review_to_wordlist( review, remove_stopwords=False ):\n",
    "    # Function to convert a document to a sequence of words,\n",
    "    # optionally removing stop words.  Returns a list of words.\n",
    "    #\n",
    "    # 1. Remove HTML\n",
    "    review_text = BeautifulSoup(review).get_text()\n",
    "    #  \n",
    "    # 2. Remove non-letters\n",
    "    review_text = re.sub(\"[^a-zA-Z]\",\" \", review_text)\n",
    "    #\n",
    "    # 3. Convert words to lower case and split them\n",
    "    words = review_text.lower().split()\n",
    "    #\n",
    "    # 4. Optionally remove stop words (false by default)\n",
    "    if remove_stopwords:\n",
    "        stops = set(stopwords.words(\"english\"))\n",
    "        words = [w for w in words if not w in stops]\n",
    "    #\n",
    "    # 5. Return a list of words\n",
    "    return(words)"
   ]
  },
  {
   "cell_type": "code",
   "execution_count": 3,
   "metadata": {
    "collapsed": false,
    "deletable": true,
    "editable": true
   },
   "outputs": [
    {
     "name": "stdout",
     "output_type": "stream",
     "text": [
      "showing info https://raw.githubusercontent.com/nltk/nltk_data/gh-pages/index.xml\n"
     ]
    }
   ],
   "source": [
    "# Download the punkt tokenizer for sentence splitting\n",
    "import nltk.data\n",
    "nltk.download()   \n",
    "\n",
    "# Load the punkt tokenizer\n",
    "tokenizer = nltk.data.load('tokenizers/punkt/english.pickle')\n",
    "\n",
    "# Define a function to split a review into parsed sentences\n",
    "def review_to_sentences( review, tokenizer, remove_stopwords=False ):\n",
    "    # Function to split a review into parsed sentences. Returns a \n",
    "    # list of sentences, where each sentence is a list of words\n",
    "    #\n",
    "    # 1. Use the NLTK tokenizer to split the paragraph into sentences\n",
    "    raw_sentences = tokenizer.tokenize(review.decode('utf-8').strip())\n",
    "    #\n",
    "    # 2. Loop over each sentence\n",
    "    sentences = []\n",
    "    for raw_sentence in raw_sentences:\n",
    "        # If a sentence is empty, skip it\n",
    "        if len(raw_sentence) > 0:\n",
    "            # Otherwise, call review_to_wordlist to get a list of words\n",
    "            sentences.append( review_to_wordlist( raw_sentence, \\\n",
    "              remove_stopwords ))\n",
    "    #\n",
    "    # Return the list of sentences (each sentence is a list of words,\n",
    "    # so this returns a list of lists\n",
    "    return sentences"
   ]
  },
  {
   "cell_type": "code",
   "execution_count": 10,
   "metadata": {
    "collapsed": false,
    "deletable": true,
    "editable": true
   },
   "outputs": [
    {
     "name": "stdout",
     "output_type": "stream",
     "text": [
      "Parsing sentences from training set\n",
      "Parsing sentences from unlabeled set\n"
     ]
    }
   ],
   "source": [
    "sentences = []  # Initialize an empty list of sentences\n",
    "\n",
    "print \"Parsing sentences from training set\"\n",
    "for review in train[\"review\"]:\n",
    "    #sentences.append(review_to_sentences(review, tokenizer))\n",
    "    sentences += review_to_sentences(review, tokenizer)\n",
    "\n",
    "print \"Parsing sentences from unlabeled set\"\n",
    "for review in unlabeled_train[\"review\"]:\n",
    "    #sentences.append(review_to_sentences(review, tokenizer))\n",
    "    sentences += review_to_sentences(review, tokenizer)\n"
   ]
  },
  {
   "cell_type": "code",
   "execution_count": 11,
   "metadata": {
    "collapsed": false,
    "deletable": true,
    "editable": true
   },
   "outputs": [
    {
     "name": "stdout",
     "output_type": "stream",
     "text": [
      "795538\n"
     ]
    }
   ],
   "source": [
    "print len(sentences)"
   ]
  },
  {
   "cell_type": "code",
   "execution_count": 12,
   "metadata": {
    "collapsed": false,
    "deletable": true,
    "editable": true
   },
   "outputs": [
    {
     "name": "stdout",
     "output_type": "stream",
     "text": [
      "[u'with', u'all', u'this', u'stuff', u'going', u'down', u'at', u'the', u'moment', u'with', u'mj', u'i', u've', u'started', u'listening', u'to', u'his', u'music', u'watching', u'the', u'odd', u'documentary', u'here', u'and', u'there', u'watched', u'the', u'wiz', u'and', u'watched', u'moonwalker', u'again']\n"
     ]
    }
   ],
   "source": [
    "print sentences[0]"
   ]
  },
  {
   "cell_type": "code",
   "execution_count": 13,
   "metadata": {
    "collapsed": false
   },
   "outputs": [
    {
     "name": "stdout",
     "output_type": "stream",
     "text": [
      "[u'maybe', u'i', u'just', u'want', u'to', u'get', u'a', u'certain', u'insight', u'into', u'this', u'guy', u'who', u'i', u'thought', u'was', u'really', u'cool', u'in', u'the', u'eighties', u'just', u'to', u'maybe', u'make', u'up', u'my', u'mind', u'whether', u'he', u'is', u'guilty', u'or', u'innocent']\n"
     ]
    }
   ],
   "source": [
    "print sentences[1]"
   ]
  },
  {
   "cell_type": "markdown",
   "metadata": {},
   "source": [
    "Training and Saving Your Model\n",
    "\n",
    "With the list of nicely parsed sentences, we're ready to train the model. There are a number of parameter choices that affect the run time and the quality of the final model that is produced. For details on the algorithms below, see the word2vec API documentation as well as the Google documentation. \n",
    "\n",
    "Architecture: Architecture options are skip-gram (default) or continuous bag of words. We found that skip-gram was very slightly slower but produced better results.\n",
    "\n",
    "Training algorithm: Hierarchical softmax (default) or negative sampling. For us, the default worked well.\n",
    "    \n",
    "Downsampling of frequent words: The Google documentation recommends values between .00001 and .001. For us, values closer 0.001 seemed to improve the accuracy of the final model.\n",
    "\n",
    "Word vector dimensionality: More features result in longer runtimes, and often, but not always, result in better models. Reasonable values can be in the tens to hundreds; we used 300.\n",
    "\n",
    "Context / window size: How many words of context should the training algorithm take into account? 10 seems to work well for hierarchical softmax (more is better, up to a point).\n",
    "Worker threads: Number of parallel processes to run. This is computer-specific, but between 4 and 6 should work on most systems.\n",
    "\n",
    "Minimum word count: This helps limit the size of the vocabulary to meaningful words. Any word that does not occur at least this many times across all documents is ignored. Reasonable values could be between 10 and 100. In this case, since each movie occurs 30 times, we set the minimum word count to 40, to avoid attaching too much importance to individual movie titles. This resulted in an overall vocabulary size of around 15,000 words. Higher values also help limit run time.\n",
    "\n",
    "Choosing parameters is not easy, but once we have chosen our parameters, creating a Word2Vec model is straightforward:"
   ]
  },
  {
   "cell_type": "code",
   "execution_count": 14,
   "metadata": {
    "collapsed": false
   },
   "outputs": [
    {
     "name": "stderr",
     "output_type": "stream",
     "text": [
      "2017-03-27 22:37:15,704 : INFO : collecting all words and their counts\n",
      "2017-03-27 22:37:15,705 : INFO : PROGRESS: at sentence #0, processed 0 words, keeping 0 word types\n"
     ]
    },
    {
     "name": "stdout",
     "output_type": "stream",
     "text": [
      "Training model...\n"
     ]
    },
    {
     "name": "stderr",
     "output_type": "stream",
     "text": [
      "2017-03-27 22:37:15,752 : INFO : PROGRESS: at sentence #10000, processed 225803 words, keeping 17776 word types\n",
      "2017-03-27 22:37:15,790 : INFO : PROGRESS: at sentence #20000, processed 451892 words, keeping 24948 word types\n",
      "2017-03-27 22:37:15,823 : INFO : PROGRESS: at sentence #30000, processed 671315 words, keeping 30034 word types\n",
      "2017-03-27 22:37:15,859 : INFO : PROGRESS: at sentence #40000, processed 897815 words, keeping 34348 word types\n",
      "2017-03-27 22:37:15,890 : INFO : PROGRESS: at sentence #50000, processed 1116963 words, keeping 37761 word types\n",
      "2017-03-27 22:37:15,924 : INFO : PROGRESS: at sentence #60000, processed 1338404 words, keeping 40723 word types\n",
      "2017-03-27 22:37:15,960 : INFO : PROGRESS: at sentence #70000, processed 1561580 words, keeping 43333 word types\n",
      "2017-03-27 22:37:15,994 : INFO : PROGRESS: at sentence #80000, processed 1780887 words, keeping 45714 word types\n",
      "2017-03-27 22:37:16,030 : INFO : PROGRESS: at sentence #90000, processed 2004996 words, keeping 48135 word types\n",
      "2017-03-27 22:37:16,066 : INFO : PROGRESS: at sentence #100000, processed 2226966 words, keeping 50207 word types\n",
      "2017-03-27 22:37:16,101 : INFO : PROGRESS: at sentence #110000, processed 2446580 words, keeping 52081 word types\n",
      "2017-03-27 22:37:16,137 : INFO : PROGRESS: at sentence #120000, processed 2668775 words, keeping 54119 word types\n",
      "2017-03-27 22:37:16,174 : INFO : PROGRESS: at sentence #130000, processed 2894303 words, keeping 55847 word types\n",
      "2017-03-27 22:37:16,204 : INFO : PROGRESS: at sentence #140000, processed 3107005 words, keeping 57346 word types\n",
      "2017-03-27 22:37:16,240 : INFO : PROGRESS: at sentence #150000, processed 3332627 words, keeping 59055 word types\n",
      "2017-03-27 22:37:16,276 : INFO : PROGRESS: at sentence #160000, processed 3555315 words, keeping 60617 word types\n",
      "2017-03-27 22:37:16,312 : INFO : PROGRESS: at sentence #170000, processed 3778655 words, keeping 62077 word types\n",
      "2017-03-27 22:37:16,347 : INFO : PROGRESS: at sentence #180000, processed 3999236 words, keeping 63496 word types\n",
      "2017-03-27 22:37:16,384 : INFO : PROGRESS: at sentence #190000, processed 4224449 words, keeping 64794 word types\n",
      "2017-03-27 22:37:16,420 : INFO : PROGRESS: at sentence #200000, processed 4448603 words, keeping 66087 word types\n",
      "2017-03-27 22:37:16,456 : INFO : PROGRESS: at sentence #210000, processed 4669967 words, keeping 67390 word types\n",
      "2017-03-27 22:37:16,492 : INFO : PROGRESS: at sentence #220000, processed 4894968 words, keeping 68697 word types\n",
      "2017-03-27 22:37:16,528 : INFO : PROGRESS: at sentence #230000, processed 5117545 words, keeping 69958 word types\n",
      "2017-03-27 22:37:16,566 : INFO : PROGRESS: at sentence #240000, processed 5345050 words, keeping 71167 word types\n",
      "2017-03-27 22:37:16,601 : INFO : PROGRESS: at sentence #250000, processed 5559165 words, keeping 72351 word types\n",
      "2017-03-27 22:37:16,637 : INFO : PROGRESS: at sentence #260000, processed 5779146 words, keeping 73478 word types\n",
      "2017-03-27 22:37:16,673 : INFO : PROGRESS: at sentence #270000, processed 6000435 words, keeping 74767 word types\n",
      "2017-03-27 22:37:16,709 : INFO : PROGRESS: at sentence #280000, processed 6226314 words, keeping 76369 word types\n",
      "2017-03-27 22:37:16,745 : INFO : PROGRESS: at sentence #290000, processed 6449474 words, keeping 77839 word types\n",
      "2017-03-27 22:37:16,781 : INFO : PROGRESS: at sentence #300000, processed 6674077 words, keeping 79171 word types\n",
      "2017-03-27 22:37:16,818 : INFO : PROGRESS: at sentence #310000, processed 6899391 words, keeping 80480 word types\n",
      "2017-03-27 22:37:16,854 : INFO : PROGRESS: at sentence #320000, processed 7124278 words, keeping 81808 word types\n",
      "2017-03-27 22:37:16,887 : INFO : PROGRESS: at sentence #330000, processed 7346021 words, keeping 83030 word types\n",
      "2017-03-27 22:37:16,924 : INFO : PROGRESS: at sentence #340000, processed 7575533 words, keeping 84280 word types\n",
      "2017-03-27 22:37:16,960 : INFO : PROGRESS: at sentence #350000, processed 7798803 words, keeping 85425 word types\n",
      "2017-03-27 22:37:16,995 : INFO : PROGRESS: at sentence #360000, processed 8019427 words, keeping 86596 word types\n",
      "2017-03-27 22:37:17,034 : INFO : PROGRESS: at sentence #370000, processed 8246619 words, keeping 87708 word types\n",
      "2017-03-27 22:37:17,071 : INFO : PROGRESS: at sentence #380000, processed 8471766 words, keeping 88878 word types\n",
      "2017-03-27 22:37:17,110 : INFO : PROGRESS: at sentence #390000, processed 8701497 words, keeping 89907 word types\n",
      "2017-03-27 22:37:17,148 : INFO : PROGRESS: at sentence #400000, processed 8924446 words, keeping 90916 word types\n",
      "2017-03-27 22:37:17,186 : INFO : PROGRESS: at sentence #410000, processed 9145796 words, keeping 91880 word types\n",
      "2017-03-27 22:37:17,224 : INFO : PROGRESS: at sentence #420000, processed 9366876 words, keeping 92912 word types\n",
      "2017-03-27 22:37:17,261 : INFO : PROGRESS: at sentence #430000, processed 9594413 words, keeping 93932 word types\n",
      "2017-03-27 22:37:17,299 : INFO : PROGRESS: at sentence #440000, processed 9821166 words, keeping 94906 word types\n",
      "2017-03-27 22:37:17,335 : INFO : PROGRESS: at sentence #450000, processed 10044928 words, keeping 96036 word types\n",
      "2017-03-27 22:37:17,373 : INFO : PROGRESS: at sentence #460000, processed 10277688 words, keeping 97088 word types\n",
      "2017-03-27 22:37:17,411 : INFO : PROGRESS: at sentence #470000, processed 10505613 words, keeping 97933 word types\n",
      "2017-03-27 22:37:17,448 : INFO : PROGRESS: at sentence #480000, processed 10725997 words, keeping 98862 word types\n",
      "2017-03-27 22:37:17,486 : INFO : PROGRESS: at sentence #490000, processed 10952741 words, keeping 99871 word types\n",
      "2017-03-27 22:37:17,524 : INFO : PROGRESS: at sentence #500000, processed 11174397 words, keeping 100765 word types\n",
      "2017-03-27 22:37:17,562 : INFO : PROGRESS: at sentence #510000, processed 11399672 words, keeping 101699 word types\n",
      "2017-03-27 22:37:17,599 : INFO : PROGRESS: at sentence #520000, processed 11623020 words, keeping 102598 word types\n",
      "2017-03-27 22:37:17,638 : INFO : PROGRESS: at sentence #530000, processed 11847418 words, keeping 103400 word types\n",
      "2017-03-27 22:37:17,675 : INFO : PROGRESS: at sentence #540000, processed 12072033 words, keeping 104265 word types\n",
      "2017-03-27 22:37:17,713 : INFO : PROGRESS: at sentence #550000, processed 12297571 words, keeping 105133 word types\n",
      "2017-03-27 22:37:17,750 : INFO : PROGRESS: at sentence #560000, processed 12518861 words, keeping 105997 word types\n",
      "2017-03-27 22:37:17,784 : INFO : PROGRESS: at sentence #570000, processed 12747916 words, keeping 106787 word types\n",
      "2017-03-27 22:37:17,820 : INFO : PROGRESS: at sentence #580000, processed 12969412 words, keeping 107665 word types\n",
      "2017-03-27 22:37:17,858 : INFO : PROGRESS: at sentence #590000, processed 13194937 words, keeping 108501 word types\n",
      "2017-03-27 22:37:17,896 : INFO : PROGRESS: at sentence #600000, processed 13417135 words, keeping 109218 word types\n",
      "2017-03-27 22:37:17,933 : INFO : PROGRESS: at sentence #610000, processed 13638158 words, keeping 110092 word types\n",
      "2017-03-27 22:37:17,970 : INFO : PROGRESS: at sentence #620000, processed 13864483 words, keeping 110837 word types\n",
      "2017-03-27 22:37:18,008 : INFO : PROGRESS: at sentence #630000, processed 14088769 words, keeping 111610 word types\n",
      "2017-03-27 22:37:18,045 : INFO : PROGRESS: at sentence #640000, processed 14309552 words, keeping 112416 word types\n",
      "2017-03-27 22:37:18,083 : INFO : PROGRESS: at sentence #650000, processed 14535308 words, keeping 113196 word types\n",
      "2017-03-27 22:37:18,116 : INFO : PROGRESS: at sentence #660000, processed 14758098 words, keeping 113945 word types\n",
      "2017-03-27 22:37:18,154 : INFO : PROGRESS: at sentence #670000, processed 14981482 words, keeping 114643 word types\n",
      "2017-03-27 22:37:18,193 : INFO : PROGRESS: at sentence #680000, processed 15206314 words, keeping 115354 word types\n",
      "2017-03-27 22:37:18,231 : INFO : PROGRESS: at sentence #690000, processed 15428507 words, keeping 116131 word types\n",
      "2017-03-27 22:37:18,268 : INFO : PROGRESS: at sentence #700000, processed 15657213 words, keeping 116943 word types\n",
      "2017-03-27 22:37:18,305 : INFO : PROGRESS: at sentence #710000, processed 15880202 words, keeping 117596 word types\n",
      "2017-03-27 22:37:18,341 : INFO : PROGRESS: at sentence #720000, processed 16105489 words, keeping 118221 word types\n",
      "2017-03-27 22:37:18,378 : INFO : PROGRESS: at sentence #730000, processed 16331870 words, keeping 118954 word types\n",
      "2017-03-27 22:37:18,415 : INFO : PROGRESS: at sentence #740000, processed 16552903 words, keeping 119668 word types\n",
      "2017-03-27 22:37:18,452 : INFO : PROGRESS: at sentence #750000, processed 16771230 words, keeping 120295 word types\n",
      "2017-03-27 22:37:18,489 : INFO : PROGRESS: at sentence #760000, processed 16990622 words, keeping 120930 word types\n",
      "2017-03-27 22:37:18,527 : INFO : PROGRESS: at sentence #770000, processed 17217759 words, keeping 121703 word types\n",
      "2017-03-27 22:37:18,563 : INFO : PROGRESS: at sentence #780000, processed 17447905 words, keeping 122402 word types\n",
      "2017-03-27 22:37:18,600 : INFO : PROGRESS: at sentence #790000, processed 17674981 words, keeping 123066 word types\n",
      "2017-03-27 22:37:18,621 : INFO : collected 123504 word types from a corpus of 17798082 raw words and 795538 sentences\n",
      "2017-03-27 22:37:18,622 : INFO : Loading a fresh vocabulary\n",
      "2017-03-27 22:37:18,689 : INFO : min_count=40 retains 16490 unique words (13% of original 123504, drops 107014)\n",
      "2017-03-27 22:37:18,690 : INFO : min_count=40 leaves 17238940 word corpus (96% of original 17798082, drops 559142)\n",
      "2017-03-27 22:37:18,714 : INFO : deleting the raw counts dictionary of 123504 items\n",
      "2017-03-27 22:37:18,717 : INFO : sample=0.001 downsamples 48 most-common words\n",
      "2017-03-27 22:37:18,717 : INFO : downsampling leaves estimated 12749658 word corpus (74.0% of prior 17238940)\n",
      "2017-03-27 22:37:18,718 : INFO : estimated required memory for 16490 words and 300 dimensions: 47821000 bytes\n",
      "2017-03-27 22:37:18,748 : INFO : resetting layer weights\n",
      "2017-03-27 22:37:18,878 : INFO : training model with 4 workers on 16490 vocabulary and 300 features, using sg=0 hs=0 sample=0.001 negative=5 window=10\n",
      "2017-03-27 22:37:18,878 : INFO : expecting 795538 sentences, matching count from corpus used for vocabulary survey\n",
      "2017-03-27 22:37:19,889 : INFO : PROGRESS: at 1.97% examples, 1242831 words/s, in_qsize 7, out_qsize 1\n",
      "2017-03-27 22:37:20,894 : INFO : PROGRESS: at 3.95% examples, 1244326 words/s, in_qsize 7, out_qsize 1\n",
      "2017-03-27 22:37:21,894 : INFO : PROGRESS: at 6.06% examples, 1276187 words/s, in_qsize 8, out_qsize 0\n",
      "2017-03-27 22:37:22,904 : INFO : PROGRESS: at 8.36% examples, 1318365 words/s, in_qsize 8, out_qsize 0\n",
      "2017-03-27 22:37:23,907 : INFO : PROGRESS: at 10.62% examples, 1342771 words/s, in_qsize 8, out_qsize 0\n",
      "2017-03-27 22:37:24,910 : INFO : PROGRESS: at 12.89% examples, 1361249 words/s, in_qsize 7, out_qsize 0\n",
      "2017-03-27 22:37:25,917 : INFO : PROGRESS: at 15.18% examples, 1374218 words/s, in_qsize 7, out_qsize 0\n",
      "2017-03-27 22:37:26,916 : INFO : PROGRESS: at 17.45% examples, 1383672 words/s, in_qsize 8, out_qsize 1\n",
      "2017-03-27 22:37:27,922 : INFO : PROGRESS: at 19.74% examples, 1391947 words/s, in_qsize 8, out_qsize 0\n",
      "2017-03-27 22:37:28,927 : INFO : PROGRESS: at 22.04% examples, 1397850 words/s, in_qsize 8, out_qsize 0\n",
      "2017-03-27 22:37:29,931 : INFO : PROGRESS: at 24.33% examples, 1401750 words/s, in_qsize 8, out_qsize 2\n",
      "2017-03-27 22:37:30,938 : INFO : PROGRESS: at 26.64% examples, 1406174 words/s, in_qsize 8, out_qsize 0\n",
      "2017-03-27 22:37:31,942 : INFO : PROGRESS: at 28.94% examples, 1410606 words/s, in_qsize 7, out_qsize 0\n",
      "2017-03-27 22:37:32,942 : INFO : PROGRESS: at 31.17% examples, 1411584 words/s, in_qsize 8, out_qsize 0\n",
      "2017-03-27 22:37:33,944 : INFO : PROGRESS: at 33.40% examples, 1413083 words/s, in_qsize 8, out_qsize 0\n",
      "2017-03-27 22:37:34,952 : INFO : PROGRESS: at 35.38% examples, 1402804 words/s, in_qsize 8, out_qsize 0\n",
      "2017-03-27 22:37:35,961 : INFO : PROGRESS: at 37.33% examples, 1393060 words/s, in_qsize 7, out_qsize 1\n",
      "2017-03-27 22:37:36,960 : INFO : PROGRESS: at 39.27% examples, 1384251 words/s, in_qsize 8, out_qsize 0\n",
      "2017-03-27 22:37:37,962 : INFO : PROGRESS: at 41.34% examples, 1380900 words/s, in_qsize 8, out_qsize 0\n",
      "2017-03-27 22:37:38,964 : INFO : PROGRESS: at 43.32% examples, 1374386 words/s, in_qsize 8, out_qsize 1\n",
      "2017-03-27 22:37:39,971 : INFO : PROGRESS: at 45.46% examples, 1373090 words/s, in_qsize 8, out_qsize 0\n",
      "2017-03-27 22:37:40,974 : INFO : PROGRESS: at 47.75% examples, 1376498 words/s, in_qsize 8, out_qsize 0\n",
      "2017-03-27 22:37:41,978 : INFO : PROGRESS: at 50.02% examples, 1379782 words/s, in_qsize 8, out_qsize 0\n",
      "2017-03-27 22:37:42,990 : INFO : PROGRESS: at 52.29% examples, 1382517 words/s, in_qsize 7, out_qsize 1\n",
      "2017-03-27 22:37:43,987 : INFO : PROGRESS: at 54.56% examples, 1385060 words/s, in_qsize 8, out_qsize 0\n",
      "2017-03-27 22:37:44,991 : INFO : PROGRESS: at 56.75% examples, 1385249 words/s, in_qsize 8, out_qsize 1\n",
      "2017-03-27 22:37:45,993 : INFO : PROGRESS: at 59.03% examples, 1387833 words/s, in_qsize 8, out_qsize 0\n",
      "2017-03-27 22:37:46,999 : INFO : PROGRESS: at 61.30% examples, 1389779 words/s, in_qsize 8, out_qsize 0\n",
      "2017-03-27 22:37:48,001 : INFO : PROGRESS: at 63.59% examples, 1391579 words/s, in_qsize 8, out_qsize 0\n",
      "2017-03-27 22:37:49,001 : INFO : PROGRESS: at 65.84% examples, 1392848 words/s, in_qsize 8, out_qsize 1\n",
      "2017-03-27 22:37:50,012 : INFO : PROGRESS: at 68.13% examples, 1394253 words/s, in_qsize 8, out_qsize 0\n",
      "2017-03-27 22:37:51,015 : INFO : PROGRESS: at 70.40% examples, 1396042 words/s, in_qsize 7, out_qsize 0\n",
      "2017-03-27 22:37:52,013 : INFO : PROGRESS: at 72.64% examples, 1397462 words/s, in_qsize 8, out_qsize 1\n",
      "2017-03-27 22:37:53,022 : INFO : PROGRESS: at 74.87% examples, 1397830 words/s, in_qsize 7, out_qsize 0\n",
      "2017-03-27 22:37:54,023 : INFO : PROGRESS: at 76.92% examples, 1395276 words/s, in_qsize 8, out_qsize 0\n",
      "2017-03-27 22:37:55,027 : INFO : PROGRESS: at 79.17% examples, 1396103 words/s, in_qsize 8, out_qsize 1\n",
      "2017-03-27 22:37:56,028 : INFO : PROGRESS: at 81.45% examples, 1397712 words/s, in_qsize 8, out_qsize 0\n",
      "2017-03-27 22:37:57,033 : INFO : PROGRESS: at 83.73% examples, 1398731 words/s, in_qsize 7, out_qsize 0\n",
      "2017-03-27 22:37:58,032 : INFO : PROGRESS: at 85.73% examples, 1395446 words/s, in_qsize 8, out_qsize 1\n",
      "2017-03-27 22:37:59,036 : INFO : PROGRESS: at 87.72% examples, 1391894 words/s, in_qsize 8, out_qsize 0\n",
      "2017-03-27 22:38:00,042 : INFO : PROGRESS: at 89.69% examples, 1388601 words/s, in_qsize 8, out_qsize 0\n",
      "2017-03-27 22:38:01,043 : INFO : PROGRESS: at 91.61% examples, 1384981 words/s, in_qsize 8, out_qsize 0\n",
      "2017-03-27 22:38:02,048 : INFO : PROGRESS: at 93.61% examples, 1382196 words/s, in_qsize 8, out_qsize 1\n",
      "2017-03-27 22:38:03,050 : INFO : PROGRESS: at 95.87% examples, 1383564 words/s, in_qsize 8, out_qsize 0\n",
      "2017-03-27 22:38:04,057 : INFO : PROGRESS: at 98.15% examples, 1385025 words/s, in_qsize 8, out_qsize 0\n",
      "2017-03-27 22:38:04,849 : INFO : worker thread finished; awaiting finish of 3 more threads\n",
      "2017-03-27 22:38:04,851 : INFO : worker thread finished; awaiting finish of 2 more threads\n",
      "2017-03-27 22:38:04,862 : INFO : worker thread finished; awaiting finish of 1 more threads\n",
      "2017-03-27 22:38:04,863 : INFO : worker thread finished; awaiting finish of 0 more threads\n",
      "2017-03-27 22:38:04,864 : INFO : training on 88990410 raw words (63752164 effective words) took 46.0s, 1386370 effective words/s\n",
      "2017-03-27 22:38:04,864 : INFO : precomputing L2-norms of word weight vectors\n",
      "2017-03-27 22:38:04,922 : INFO : saving Word2Vec object under 300features_40minwords_10context, separately None\n",
      "2017-03-27 22:38:04,923 : INFO : not storing attribute syn0norm\n",
      "2017-03-27 22:38:04,923 : INFO : not storing attribute cum_table\n",
      "2017-03-27 22:38:05,001 : INFO : saved 300features_40minwords_10context\n"
     ]
    }
   ],
   "source": [
    "# Import the built-in logging module and configure it so that Word2Vec \n",
    "# creates nice output messages\n",
    "import logging\n",
    "logging.basicConfig(format='%(asctime)s : %(levelname)s : %(message)s',\\\n",
    "    level=logging.INFO)\n",
    "\n",
    "# Set values for various parameters\n",
    "num_features = 300    # Word vector dimensionality                      \n",
    "min_word_count = 40   # Minimum word count                        \n",
    "num_workers = 4       # Number of threads to run in parallel\n",
    "context = 10          # Context window size                                                                                    \n",
    "downsampling = 1e-3   # Downsample setting for frequent words\n",
    "\n",
    "# Initialize and train the model (this will take some time)\n",
    "from gensim.models import word2vec\n",
    "print \"Training model...\"\n",
    "model = word2vec.Word2Vec(sentences, workers=num_workers, \\\n",
    "            size=num_features, min_count = min_word_count, \\\n",
    "            window = context, sample = downsampling)\n",
    "\n",
    "# If you don't plan to train the model any further, calling \n",
    "# init_sims will make the model much more memory-efficient.\n",
    "model.init_sims(replace=True)\n",
    "\n",
    "# It can be helpful to create a meaningful model name and \n",
    "# save the model for later use. You can load it later using Word2Vec.load()\n",
    "model_name = \"300features_40minwords_10context\"\n",
    "model.save(model_name)"
   ]
  },
  {
   "cell_type": "code",
   "execution_count": 15,
   "metadata": {
    "collapsed": false
   },
   "outputs": [
    {
     "data": {
      "text/plain": [
       "'kitchen'"
      ]
     },
     "execution_count": 15,
     "metadata": {},
     "output_type": "execute_result"
    }
   ],
   "source": [
    "model.doesnt_match(\"man woman child kitchen\".split())"
   ]
  },
  {
   "cell_type": "code",
   "execution_count": 16,
   "metadata": {
    "collapsed": false
   },
   "outputs": [
    {
     "data": {
      "text/plain": [
       "'berlin'"
      ]
     },
     "execution_count": 16,
     "metadata": {},
     "output_type": "execute_result"
    }
   ],
   "source": [
    "model.doesnt_match(\"france england germany berlin\".split())\n",
    "'berlin'"
   ]
  },
  {
   "cell_type": "code",
   "execution_count": 17,
   "metadata": {
    "collapsed": false
   },
   "outputs": [
    {
     "data": {
      "text/plain": [
       "'paris'"
      ]
     },
     "execution_count": 17,
     "metadata": {},
     "output_type": "execute_result"
    }
   ],
   "source": [
    "model.doesnt_match(\"paris berlin london austria\".split())"
   ]
  },
  {
   "cell_type": "code",
   "execution_count": 18,
   "metadata": {
    "collapsed": false
   },
   "outputs": [
    {
     "data": {
      "text/plain": [
       "[(u'woman', 0.620313286781311),\n",
       " (u'lad', 0.5934368371963501),\n",
       " (u'lady', 0.5863518714904785),\n",
       " (u'monk', 0.5385408997535706),\n",
       " (u'chap', 0.5358078479766846),\n",
       " (u'guy', 0.5134960412979126),\n",
       " (u'person', 0.5052042603492737),\n",
       " (u'soldier', 0.5010371208190918),\n",
       " (u'men', 0.4988691508769989),\n",
       " (u'farmer', 0.4971473515033722)]"
      ]
     },
     "execution_count": 18,
     "metadata": {},
     "output_type": "execute_result"
    }
   ],
   "source": [
    "model.most_similar(\"man\")"
   ]
  },
  {
   "cell_type": "code",
   "execution_count": 19,
   "metadata": {
    "collapsed": false
   },
   "outputs": [
    {
     "data": {
      "text/plain": [
       "[(u'princess', 0.6646560430526733),\n",
       " (u'bride', 0.6435585021972656),\n",
       " (u'belle', 0.6041259765625),\n",
       " (u'showgirl', 0.6019414067268372),\n",
       " (u'maid', 0.5876890420913696),\n",
       " (u'victoria', 0.5791400671005249),\n",
       " (u'eva', 0.5774714350700378),\n",
       " (u'regina', 0.5707652568817139),\n",
       " (u'stepmother', 0.5659473538398743),\n",
       " (u'vixen', 0.5655236840248108)]"
      ]
     },
     "execution_count": 19,
     "metadata": {},
     "output_type": "execute_result"
    }
   ],
   "source": [
    "model.most_similar(\"queen\")"
   ]
  },
  {
   "cell_type": "code",
   "execution_count": 20,
   "metadata": {
    "collapsed": false
   },
   "outputs": [
    {
     "data": {
      "text/plain": [
       "[(u'terrible', 0.7786831259727478),\n",
       " (u'atrocious', 0.7427459359169006),\n",
       " (u'horrible', 0.7425686717033386),\n",
       " (u'abysmal', 0.7124002575874329),\n",
       " (u'dreadful', 0.7117214202880859),\n",
       " (u'horrendous', 0.6795046329498291),\n",
       " (u'appalling', 0.6662834882736206),\n",
       " (u'horrid', 0.6597735285758972),\n",
       " (u'lousy', 0.6544453501701355),\n",
       " (u'amateurish', 0.6276208162307739)]"
      ]
     },
     "execution_count": 20,
     "metadata": {},
     "output_type": "execute_result"
    }
   ],
   "source": [
    "model.most_similar(\"awful\")"
   ]
  },
  {
   "cell_type": "code",
   "execution_count": 23,
   "metadata": {
    "collapsed": false
   },
   "outputs": [
    {
     "data": {
      "text/plain": [
       "([(u'nose', 0.6946029663085938),\n",
       "  (u'chest', 0.6820085644721985),\n",
       "  (u'neck', 0.6798266768455505),\n",
       "  (u'fingers', 0.665209949016571),\n",
       "  (u'throat', 0.6602528095245361),\n",
       "  (u'finger', 0.6588197946548462),\n",
       "  (u'shoulder', 0.6495363116264343),\n",
       "  (u'leg', 0.6470134258270264),\n",
       "  (u'pants', 0.6278905272483826),\n",
       "  (u'teeth', 0.626389741897583)],\n",
       " [(u'glossed', 0.5493491291999817),\n",
       "  (u'emoting', 0.47131386399269104),\n",
       "  (u'dramatized', 0.4577822983264923),\n",
       "  (u'gloss', 0.4372343420982361),\n",
       "  (u'hyped', 0.4270886182785034),\n",
       "  (u'drool', 0.42291659116744995),\n",
       "  (u'sized', 0.4228958785533905),\n",
       "  (u'cuckoo', 0.41692614555358887),\n",
       "  (u'tip', 0.405207097530365),\n",
       "  (u'edge', 0.40096810460090637)])"
      ]
     },
     "execution_count": 23,
     "metadata": {},
     "output_type": "execute_result"
    }
   ],
   "source": [
    "model.most_similar(\"head\"), model.doesnt_match(\"hea\")"
   ]
  },
  {
   "cell_type": "code",
   "execution_count": null,
   "metadata": {
    "collapsed": true
   },
   "outputs": [],
   "source": []
  }
 ],
 "metadata": {
  "kernelspec": {
   "display_name": "Python 2",
   "language": "python",
   "name": "python2"
  },
  "language_info": {
   "codemirror_mode": {
    "name": "ipython",
    "version": 2
   },
   "file_extension": ".py",
   "mimetype": "text/x-python",
   "name": "python",
   "nbconvert_exporter": "python",
   "pygments_lexer": "ipython2",
   "version": "2.7.12"
  }
 },
 "nbformat": 4,
 "nbformat_minor": 2
}
